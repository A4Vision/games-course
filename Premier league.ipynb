{
 "cells": [
  {
   "cell_type": "code",
   "execution_count": 2,
   "metadata": {},
   "outputs": [],
   "source": [
    "import pandas as pd\n",
    "df = pd.read_csv(\"files/results.csv\")"
   ]
  },
  {
   "cell_type": "markdown",
   "metadata": {},
   "source": [
    "## תרגיל 1"
   ]
  },
  {
   "cell_type": "code",
   "execution_count": 3,
   "metadata": {},
   "outputs": [
    {
     "name": "stdout",
     "output_type": "stream",
     "text": [
      "45.526315789473685%\n"
     ]
    }
   ],
   "source": [
    "season2008 = df[df[\"Season\"] == \"2008-09\"]\n",
    "homes_win_n = len(season2008[season2008[\"FTR\"] == \"H\"])\n",
    "print(f\"{homes_win_n / len(season2008) *100}%\")"
   ]
  },
  {
   "cell_type": "markdown",
   "metadata": {},
   "source": [
    "## תרגיל 2"
   ]
  },
  {
   "cell_type": "code",
   "execution_count": 61,
   "metadata": {},
   "outputs": [
    {
     "name": "stdout",
     "output_type": "stream",
     "text": [
      "{'1993-94': '41.558%', '1994-95': '44.372%', '1995-96': '48.947%', '1996-97': '42.632%', '1997-98': '48.421%', '1998-99': '44.474%', '1999-00': '49.211%', '2000-01': '48.421%', '2001-02': '43.421%', '2002-03': '49.211%', '2003-04': '43.947%', '2004-05': '45.526%', '2005-06': '50.526%', '2006-07': '47.895%', '2007-08': '46.316%', '2008-09': '45.526%', '2009-10': '50.789%', '2010-11': '47.105%', '2011-12': '45.000%', '2012-13': '43.684%', '2013-14': '47.105%', '2014-15': '45.263%', '2015-16': '41.316%', '2016-17': '49.211%', '2017-18': '45.526%', '2018-19': '47.632%', '2019-20': '45.263%'}\n"
     ]
    }
   ],
   "source": [
    "all_seasons = dict.fromkeys(list(df[\"Season\"]))\n",
    "for season in all_seasons:\n",
    "    the_season = df[df[\"Season\"] == season]\n",
    "    all_seasons[season] = f\"{len(the_season[the_season['FTR'] == 'H']) / len(the_season) * 100:.3f}%\"\n",
    "print(all_seasons)\n",
    "\n",
    "# כתיבת הנתונים בטבלה כדי שיהי אפשר להכין גרף באקסל\n",
    "with open(\"home team winning.csv\", \"w\") as file:\n",
    "    file.write(\",\".join(list(all_seasons.keys())) + \"\\n\")\n",
    "    file.write(\",\".join(list(all_seasons.values())))\n"
   ]
  },
  {
   "cell_type": "markdown",
   "metadata": {},
   "source": [
    "## תרגיל 4"
   ]
  },
  {
   "cell_type": "code",
   "execution_count": null,
   "metadata": {},
   "outputs": [],
   "source": []
  },
  {
   "cell_type": "markdown",
   "metadata": {},
   "source": [
    "## תרגיל 5 ו - 6"
   ]
  },
  {
   "cell_type": "code",
   "execution_count": 66,
   "metadata": {},
   "outputs": [
    {
     "name": "stdout",
     "output_type": "stream",
     "text": [
      "                Team  Seasons she played\n",
      "0            Arsenal                  27\n",
      "1            Chelsea                  27\n",
      "2          Liverpool                  27\n",
      "3          Tottenham                  27\n",
      "4            Everton                  27\n",
      "5         Man United                  27\n",
      "6          Newcastle                  25\n",
      "7        Aston Villa                  24\n",
      "8           West Ham                  24\n",
      "9           Man City                  22\n",
      "10       Southampton                  20\n",
      "11         Blackburn                  17\n",
      "12        Sunderland                  16\n",
      "13         Leicester                  14\n",
      "14     Middlesbrough                  14\n",
      "15            Fulham                  14\n",
      "16            Bolton                  13\n",
      "17         West Brom                  12\n",
      "18             Leeds                  11\n",
      "19    Crystal Palace                  10\n",
      "20             Stoke                  10\n",
      "21           Norwich                   8\n",
      "22          Coventry                   8\n",
      "23          Charlton                   8\n",
      "24             Wigan                   8\n",
      "25         Wimbledon                   7\n",
      "26    Sheffield Weds                   7\n",
      "27             Derby                   7\n",
      "28           Watford                   7\n",
      "29        Birmingham                   7\n",
      "30        Portsmouth                   7\n",
      "31           Swansea                   7\n",
      "32               QPR                   6\n",
      "33            Wolves                   6\n",
      "34           Burnley                   6\n",
      "35              Hull                   5\n",
      "36       Bournemouth                   5\n",
      "37           Ipswich                   4\n",
      "38     Nott'm Forest                   4\n",
      "39  Sheffield United                   3\n",
      "40           Reading                   3\n",
      "41          Brighton                   3\n",
      "42          Bradford                   2\n",
      "43           Cardiff                   2\n",
      "44      Huddersfield                   2\n",
      "45            Oldham                   1\n",
      "46           Swindon                   1\n",
      "47          Barnsley                   1\n",
      "48         Blackpool                   1\n",
      "\n",
      "\n",
      "\n",
      " The 5 teams that played the most games:\n",
      "\n",
      "         Team  Seasons she played\n",
      "0    Arsenal                  27\n",
      "1    Chelsea                  27\n",
      "2  Liverpool                  27\n",
      "3  Tottenham                  27\n",
      "4    Everton                  27\n"
     ]
    }
   ],
   "source": [
    "all_teams = dict.fromkeys(list(df[\"HomeTeam\"]), 0)\n",
    "all_seasons = list(dict.fromkeys(list(df[\"Season\"])))\n",
    "\n",
    "for team in all_teams:\n",
    "    for season in all_seasons:\n",
    "        the_season = df[df[\"Season\"] == season]\n",
    "        if team in set(the_season[\"HomeTeam\"]):\n",
    "            all_teams[team] += 1\n",
    "\n",
    "all_teams =  {k:v for k, v in sorted(all_teams.items(), key = lambda x: x[1], reverse=True)}\n",
    "data = {\"Team\":list(all_teams.keys()), \"Seasons she played\":list(all_teams.values())}\n",
    "df2 = pd.DataFrame(data)\n",
    "\n",
    "print(df2)\n",
    "print(\"\\n\\n\\n The 5 teams that played the most games:\\n\\n\", df2.head())\n"
   ]
  },
  {
   "cell_type": "markdown",
   "metadata": {},
   "source": [
    "## תרגיל 7"
   ]
  },
  {
   "cell_type": "code",
   "execution_count": 60,
   "metadata": {},
   "outputs": [],
   "source": [
    "all_seasons = dict.fromkeys(list(df[\"Season\"]))\n",
    "\n",
    "for season in all_seasons:\n",
    "    the_season = df[df[\"Season\"] == season]\n",
    "    season_golls = the_season[\"FTHG\"].sum() + the_season[\"FTAG\"].sum()\n",
    "    all_seasons[season] = season_golls\n",
    "\n",
    "# כתיבת הנתונים בטבלה כדי שיהי אפשר להכין גרף באקסל\n",
    "with open(\"Seasons golls.csv\",  \"w\") as file:\n",
    "    file.write(\",\".join(list(all_seasons.keys())) + \"\\n\")\n",
    "    file.write(\",\".join([str(i) for i in list(all_seasons.values())]))\n"
   ]
  },
  {
   "cell_type": "markdown",
   "metadata": {},
   "source": [
    "## תרגיל 8"
   ]
  },
  {
   "cell_type": "code",
   "execution_count": null,
   "metadata": {},
   "outputs": [],
   "source": []
  },
  {
   "cell_type": "markdown",
   "metadata": {},
   "source": [
    "## תרגיל 9"
   ]
  },
  {
   "cell_type": "code",
   "execution_count": 91,
   "metadata": {},
   "outputs": [
    {
     "name": "stdout",
     "output_type": "stream",
     "text": [
      "False\n"
     ]
    }
   ],
   "source": [
    "def all_item_eqal(lst):\n",
    "    last = lst[0]\n",
    "    for i in lst:\n",
    "        if i != last:\n",
    "            return False\n",
    "        last = i\n",
    "    return True\n",
    "\n",
    "\n",
    "all_seasons = dict.fromkeys(list(df[\"Season\"]))\n",
    "\n",
    "num_teams_in_season =  [len(list(dict.fromkeys( list(df[df[\"Season\"] == season][\"HomeTeam\"]) ))) for season in all_seasons]\n",
    "\n",
    "print(all_item_eqal(num_teams_in_season))"
   ]
  },
  {
   "cell_type": "markdown",
   "metadata": {},
   "source": [
    "## תרגיל 10"
   ]
  },
  {
   "cell_type": "code",
   "execution_count": 85,
   "metadata": {},
   "outputs": [
    {
     "name": "stdout",
     "output_type": "stream",
     "text": [
      "49\n"
     ]
    }
   ],
   "source": [
    "all_teams = list(dict.fromkeys(list(df[\"AwayTeam\"])))\n",
    "print(len(all_teams))"
   ]
  },
  {
   "cell_type": "markdown",
   "metadata": {},
   "source": [
    "## תרגיל 11"
   ]
  },
  {
   "cell_type": "code",
   "execution_count": 87,
   "metadata": {},
   "outputs": [
    {
     "name": "stdout",
     "output_type": "stream",
     "text": [
      "{'1993-94': 42, '1994-95': 42, '1995-96': 38, '1996-97': 38, '1997-98': 38, '1998-99': 38, '1999-00': 38, '2000-01': 38, '2001-02': 38, '2002-03': 38, '2003-04': 38, '2004-05': 38, '2005-06': 38, '2006-07': 38, '2007-08': 38, '2008-09': 38, '2009-10': 38, '2010-11': 38, '2011-12': 38, '2012-13': 38, '2013-14': 38, '2014-15': 38, '2015-16': 38, '2016-17': 38, '2017-18': 38, '2018-19': 38, '2019-20': 38}\n"
     ]
    }
   ],
   "source": [
    "all_seasons = dict.fromkeys(list(df[\"Season\"]))\n",
    "for season in all_seasons:\n",
    "    the_season = df[df[\"Season\"] == season]\n",
    "    all_teams = list(dict.fromkeys(list(the_season[\"HomeTeam\"])))\n",
    "    all_seasons[season] = (len(all_teams) - 1) * 2\n",
    "print(all_seasons)"
   ]
  },
  {
   "cell_type": "markdown",
   "metadata": {},
   "source": [
    "## תרגיל 12"
   ]
  },
  {
   "cell_type": "code",
   "execution_count": 105,
   "metadata": {},
   "outputs": [],
   "source": [
    "all_season = dict.fromkeys(list(df[\"Season\"]))\n",
    "for season in all_seasons:\n",
    "    the_season = df[df[\"Season\"] == season]\n",
    "    num_seas_teams = len(list(dict.fromkeys(list(the_season[\"AwayTeam\"]))))\n",
    "    num_seas_games = len(the_season)\n",
    "    \n",
    "    if ( (num_seas_teams - 1) * 2 * (num_seas_teams / 2) != num_seas_games ):\n",
    "        print(f'in season {season} not all the teams play enough games')"
   ]
  },
  {
   "cell_type": "code",
   "execution_count": null,
   "metadata": {},
   "outputs": [],
   "source": []
  }
 ],
 "metadata": {
  "kernelspec": {
   "display_name": "Python 3",
   "language": "python",
   "name": "python3"
  },
  "language_info": {
   "codemirror_mode": {
    "name": "ipython",
    "version": 3
   },
   "file_extension": ".py",
   "mimetype": "text/x-python",
   "name": "python",
   "nbconvert_exporter": "python",
   "pygments_lexer": "ipython3",
   "version": "3.6.7"
  }
 },
 "nbformat": 4,
 "nbformat_minor": 4
}
