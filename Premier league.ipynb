{
 "cells": [
  {
   "cell_type": "code",
   "execution_count": 46,
   "metadata": {},
   "outputs": [],
   "source": [
    "import pandas as pd\n",
    "import matplotlib.pyplot as plt\n",
    "df = pd.read_csv(\"files/results.csv\")"
   ]
  },
  {
   "cell_type": "markdown",
   "metadata": {},
   "source": [
    "##  ************תרגיל 1"
   ]
  },
  {
   "cell_type": "code",
   "execution_count": 115,
   "metadata": {},
   "outputs": [
    {
     "name": "stdout",
     "output_type": "stream",
     "text": [
      "45.526315789473685%\n",
      "False\n"
     ]
    }
   ],
   "source": [
    "season2008 = df[df[\"Season\"] == \"2008-09\"]\n",
    "home_win = season2008[\"FTR\"] == \"H\"\n",
    "print(str(home_win.mean() * 100) + \"%\")"
   ]
  },
  {
   "cell_type": "markdown",
   "metadata": {},
   "source": [
    "## תרגיל 2"
   ]
  },
  {
   "cell_type": "code",
   "execution_count": 65,
   "metadata": {},
   "outputs": [
    {
     "name": "stdout",
     "output_type": "stream",
     "text": [
      "AxesSubplot(0.125,0.125;0.775x0.755)\n"
     ]
    },
    {
     "data": {
      "image/png": "[encoded data removed]",
      "text/plain": [
       "<Figure size 432x288 with 1 Axes>"
      ]
     },
     "metadata": {
      "needs_background": "light"
     },
     "output_type": "display_data"
    }
   ],
   "source": [
    "all_seasons = dict.fromkeys(list(df[\"Season\"]))\n",
    "for season in all_seasons:\n",
    "    the_season = df[df[\"Season\"] == season]\n",
    "    all_seasons[season] = (the_season['FTR'] == 'H').mean() * 100\n",
    "\n",
    "home_seas_wins = pd.DataFrame({\"Season\": list(all_seasons.keys()), \"Home wins (precent)\": list(all_seasons.values())})\n",
    "\n",
    "print(home_seas_wins.plot(kind='bar', x=\"Season\", y=\"Home wins (precent)\"))"
   ]
  },
  {
   "cell_type": "markdown",
   "metadata": {},
   "source": [
    "## תרגיל 4"
   ]
  },
  {
   "cell_type": "code",
   "execution_count": null,
   "metadata": {},
   "outputs": [],
   "source": []
  },
  {
   "cell_type": "markdown",
   "metadata": {},
   "source": [
    "## תרגיל 5 ו - 6"
   ]
  },
  {
   "cell_type": "code",
   "execution_count": 198,
   "metadata": {},
   "outputs": [
    {
     "name": "stdout",
     "output_type": "stream",
     "text": [
      "Man United          27.0\n",
      "Tottenham           27.0\n",
      "Liverpool           27.0\n",
      "Arsenal             27.0\n",
      "Everton             27.0\n",
      "Chelsea             27.0\n",
      "Newcastle           25.0\n",
      "Aston Villa         24.0\n",
      "West Ham            24.0\n",
      "Man City            22.0\n",
      "Southampton         20.0\n",
      "Blackburn           17.0\n",
      "Sunderland          16.0\n",
      "Leicester           14.0\n",
      "Fulham              14.0\n",
      "Middlesbrough       14.0\n",
      "Bolton              13.0\n",
      "West Brom           12.0\n",
      "Leeds               11.0\n",
      "Crystal Palace      10.0\n",
      "Stoke               10.0\n",
      "Norwich              8.0\n",
      "Coventry             8.0\n",
      "Wigan                8.0\n",
      "Charlton             8.0\n",
      "Wimbledon            7.0\n",
      "Sheffield Weds       7.0\n",
      "Birmingham           7.0\n",
      "Swansea              7.0\n",
      "Watford              7.0\n",
      "Portsmouth           7.0\n",
      "Derby                7.0\n",
      "QPR                  6.0\n",
      "Wolves               6.0\n",
      "Burnley              6.0\n",
      "Hull                 5.0\n",
      "Bournemouth          5.0\n",
      "Ipswich              4.0\n",
      "Nott'm Forest        4.0\n",
      "Sheffield United     3.0\n",
      "Brighton             3.0\n",
      "Reading              3.0\n",
      "Bradford             2.0\n",
      "Huddersfield         2.0\n",
      "Cardiff              2.0\n",
      "Oldham               1.0\n",
      "Swindon              1.0\n",
      "Blackpool            1.0\n",
      "Barnsley             1.0\n",
      "Name: HomeTeam, dtype: float64\n",
      "\n",
      "\n",
      "\n",
      "The 5 teams that have appeared in the most seasons:\n",
      "\n",
      "Man United    27.0\n",
      "Tottenham     27.0\n",
      "Liverpool     27.0\n",
      "Arsenal       27.0\n",
      "Everton       27.0\n",
      "Name: HomeTeam, dtype: float64\n"
     ]
    }
   ],
   "source": [
    "# יצירת משתנה המכיל את ממוצע משחקי הבית של כל קבוצה בעונה\n",
    "aver_n_home_games_in_seas = (df.groupby(\"Season\")[\"HomeTeam\"].nunique() - 1).mean()\n",
    "\n",
    "n_team_appear_in_seas = round(df[\"HomeTeam\"].value_counts() / aver_n_home_games_in_seas)\n",
    "\n",
    "print(n_team_appear_in_seas)\n",
    "print(f\"\\n\\n\\nThe 5 teams that have appeared in the most seasons:\\n\\n{n_team_appear_in_seas.head()}\")"
   ]
  },
  {
   "cell_type": "markdown",
   "metadata": {},
   "source": [
    "## תרגיל 7"
   ]
  },
  {
   "cell_type": "code",
   "execution_count": 67,
   "metadata": {},
   "outputs": [
    {
     "name": "stdout",
     "output_type": "stream",
     "text": [
      "AxesSubplot(0.125,0.125;0.775x0.755)\n"
     ]
    },
    {
     "data": {
      "image/png": "[encoded data removed]",
      "text/plain": [
       "<Figure size 432x288 with 1 Axes>"
      ]
     },
     "metadata": {
      "needs_background": "light"
     },
     "output_type": "display_data"
    }
   ],
   "source": [
    "all_seasons = dict.fromkeys(list(df[\"Season\"]))\n",
    "\n",
    "for season in all_seasons:\n",
    "    the_season = df[df[\"Season\"] == season]\n",
    "    season_golls = the_season[\"FTHG\"].sum() + the_season[\"FTAG\"].sum()\n",
    "    all_seasons[season] = season_golls\n",
    "\n",
    "seas_golls = pd.DataFrame({\"Season\": list(all_seasons.keys()), \"Num golls\": list(all_seasons.values())})\n",
    "print(seas_golls.plot(kind=\"bar\", x=\"Season\", y=\"Num golls\"))"
   ]
  },
  {
   "cell_type": "markdown",
   "metadata": {},
   "source": [
    "## תרגיל 8"
   ]
  },
  {
   "cell_type": "code",
   "execution_count": null,
   "metadata": {},
   "outputs": [],
   "source": []
  },
  {
   "cell_type": "markdown",
   "metadata": {},
   "source": [
    "## תרגיל 9"
   ]
  },
  {
   "cell_type": "code",
   "execution_count": 83,
   "metadata": {},
   "outputs": [
    {
     "name": "stdout",
     "output_type": "stream",
     "text": [
      "False\n"
     ]
    }
   ],
   "source": [
    "all_seasons = list(dict.fromkeys(list(df[\"Season\"])))\n",
    "\n",
    "data ={\"Season\": all_seasons}\n",
    "\n",
    "data[\"Team in season\"] =  [len(list(dict.fromkeys( list(df[df[\"Season\"] == season][\"HomeTeam\"]) ))) for season in all_seasons]\n",
    "df3 = pd.DataFrame(data)\n",
    "\n",
    "if df3[\"Team in season\"].nunique() == 1:\n",
    "    print(True)\n",
    "else:\n",
    "    print(False)"
   ]
  },
  {
   "cell_type": "markdown",
   "metadata": {},
   "source": [
    "## תרגיל 10"
   ]
  },
  {
   "cell_type": "code",
   "execution_count": 84,
   "metadata": {},
   "outputs": [
    {
     "name": "stdout",
     "output_type": "stream",
     "text": [
      "49\n"
     ]
    }
   ],
   "source": [
    "all_teams = df[\"AwayTeam\"]\n",
    "print(all_teams.nunique())"
   ]
  },
  {
   "cell_type": "markdown",
   "metadata": {},
   "source": [
    "## תרגיל 11"
   ]
  },
  {
   "cell_type": "code",
   "execution_count": 100,
   "metadata": {},
   "outputs": [
    {
     "name": "stdout",
     "output_type": "stream",
     "text": [
      "1993-94: 42  |  1994-95: 42  |  1995-96: 38  |  1996-97: 38  |  1997-98: 38  |  1998-99: 38  |  1999-00: 38  |  2000-01: 38  |  2001-02: 38  |  2002-03: 38  |  2003-04: 38  |  2004-05: 38  |  2005-06: 38  |  2006-07: 38  |  2007-08: 38  |  2008-09: 38  |  2009-10: 38  |  2010-11: 38  |  2011-12: 38  |  2012-13: 38  |  2013-14: 38  |  2014-15: 38  |  2015-16: 38  |  2016-17: 38  |  2017-18: 38  |  2018-19: 38  |  2019-20: 38  |  "
     ]
    }
   ],
   "source": [
    "seasons = df.groupby(\"Season\")\n",
    "\n",
    "for seas_name, seas in seasons:\n",
    "    print(f\"{seas_name}: {len(seas) // (seas['AwayTeam'].nunique() // 2)}\", end=\"  |  \")"
   ]
  },
  {
   "cell_type": "markdown",
   "metadata": {},
   "source": [
    "## תרגיל 12"
   ]
  },
  {
   "cell_type": "code",
   "execution_count": 101,
   "metadata": {},
   "outputs": [],
   "source": [
    "all_season = dict.fromkeys(list(df[\"Season\"]))\n",
    "\n",
    "for season, the_season in df.groupby(\"Season\"):\n",
    "    num_seas_teams = len(list(dict.fromkeys(list(the_season[\"AwayTeam\"]))))\n",
    "    num_seas_games = len(the_season)\n",
    "    \n",
    "    if ( (num_seas_teams - 1) * 2 * (num_seas_teams / 2) != num_seas_games ):\n",
    "        print(f'in season {season} not all the teams play enough games')"
   ]
  },
  {
   "cell_type": "markdown",
   "metadata": {},
   "source": [
    "## תרגיל 13"
   ]
  },
  {
   "cell_type": "code",
   "execution_count": null,
   "metadata": {},
   "outputs": [],
   "source": []
  },
  {
   "cell_type": "markdown",
   "metadata": {},
   "source": [
    "## 14 תרגיל"
   ]
  },
  {
   "cell_type": "code",
   "execution_count": 102,
   "metadata": {},
   "outputs": [
    {
     "name": "stdout",
     "output_type": "stream",
     "text": [
      "      Season         Team  Points in season\n",
      "1    1993-94   Man United                92\n",
      "2    1993-94    Blackburn                84\n",
      "3    1993-94    Newcastle                77\n",
      "4    1993-94      Arsenal                71\n",
      "5    1993-94        Leeds                70\n",
      "..       ...          ...               ...\n",
      "540  2019-20     West Ham                39\n",
      "541  2019-20  Aston Villa                35\n",
      "542  2019-20      Watford                34\n",
      "543  2019-20  Bournemouth                34\n",
      "544  2019-20      Norwich                21\n",
      "\n",
      "[544 rows x 3 columns]\n"
     ]
    }
   ],
   "source": [
    "data = {\"Season\": [], \"Team\": [], \"Points in season\": []}\n",
    "\n",
    "for season, the_season in df.groupby(\"Season\"):\n",
    "    \n",
    "    all_teams = list(set(the_season[\"AwayTeam\"]))\n",
    "    for team in all_teams:\n",
    "        n_team_wins = len(the_season[((the_season[\"HomeTeam\"] == team) & (the_season[\"FTR\"] == \"H\")) | ((the_season[\"AwayTeam\"] == team) & (the_season[\"FTR\"] == \"A\"))])\n",
    "\n",
    "        n_team_draws = len(the_season[((the_season[\"HomeTeam\"] == team) | (the_season[\"AwayTeam\"] == team)) & (the_season[\"FTR\"] == \"D\")])\n",
    "        team_seas_points = n_team_wins * 3 + n_team_draws\n",
    "\n",
    "        data[\"Season\"].append(season)\n",
    "        data[\"Team\"].append(team)\n",
    "        data[\"Points in season\"].append(team_seas_points)\n",
    "\n",
    "seas_table = pd.DataFrame(data).sort_values([\"Season\", \"Points in season\"], ascending=[True, False])\n",
    "seas_table.index = pd.RangeIndex(1, len(seas_table) + 1, 1)\n",
    "print(seas_table)"
   ]
  },
  {
   "cell_type": "markdown",
   "metadata": {},
   "source": [
    "## תרגיל 15"
   ]
  },
  {
   "cell_type": "code",
   "execution_count": 11,
   "metadata": {},
   "outputs": [
    {
     "name": "stdout",
     "output_type": "stream",
     "text": [
      "75.385%\n"
     ]
    }
   ],
   "source": [
    "all_seasons = list(dict.fromkeys(list(df[\"Season\"])))\n",
    "\n",
    "count = 0\n",
    "for season in all_seasons[:-1]:\n",
    "    \n",
    "    the_season_table = seas_table[seas_table[\"Season\"] == season]\n",
    "    leading_seas_teams = the_season_table.head()\n",
    "    \n",
    "\n",
    "    next_season = all_seasons[all_seasons.index(season) + 1]\n",
    "    leading_next_seas_teams = seas_table[seas_table[\"Season\"] == next_season].head()\n",
    "    \n",
    "    for lteam in leading_seas_teams.values:\n",
    "        for LNteam in leading_next_seas_teams.values:\n",
    "            if lteam[1] == LNteam[1]:\n",
    "                count += 1\n",
    "                break\n",
    "            \n",
    "print(f\"{(count / ((len(all_seasons) - 1) * 5)) * 100:.3f}%\")"
   ]
  },
  {
   "cell_type": "markdown",
   "metadata": {},
   "source": [
    "## תרגיל 16"
   ]
  },
  {
   "cell_type": "code",
   "execution_count": 12,
   "metadata": {},
   "outputs": [
    {
     "name": "stdout",
     "output_type": "stream",
     "text": [
      "{'Coventry': '31.731%', 'QPR': '22.458%', 'Blackburn': '26.453%', 'Sheffield Weds': '27.372%', 'Leeds': '25.822%', 'Tottenham': '24.855%', 'Ipswich': '23.125%', 'Swindon': '35.714%', 'Everton': '28.820%', 'Wimbledon': '29.927%', 'Man United': '21.663%', 'Arsenal': '25.435%', 'Man City': '22.156%', 'Southampton': '27.344%', 'West Ham': '25.761%', 'Chelsea': '24.081%', 'Norwich': '28.526%', 'Newcastle': '25.574%', 'Sheffield United': '32.203%', 'Liverpool': '24.565%', 'Aston Villa': '29.565%', 'Oldham': '30.952%', \"Nott'm Forest\": '31.410%', 'Leicester': '26.866%', 'Crystal Palace': '23.438%', 'Bolton': '25.911%', 'Middlesbrough': '29.699%', 'Sunderland': '26.151%', 'Derby': '26.316%', 'Barnsley': '13.158%', 'Charlton': '26.974%', 'Bradford': '26.316%', 'Watford': '22.932%', 'Fulham': '26.504%', 'West Brom': '28.070%', 'Birmingham': '30.827%', 'Wolves': '27.632%', 'Portsmouth': '24.436%', 'Wigan': '25.000%', 'Reading': '20.175%', 'Stoke': '28.684%', 'Hull': '25.263%', 'Burnley': '23.246%', 'Blackpool': '23.684%', 'Swansea': '24.812%', 'Cardiff': '17.105%', 'Bournemouth': '22.632%', 'Huddersfield': '22.368%', 'Brighton': '31.579%'}\n"
     ]
    }
   ],
   "source": [
    "all_teams = dict.fromkeys(list(df[\"AwayTeam\"]))\n",
    "\n",
    "for team in all_teams:\n",
    "    team_games = df[(df[\"AwayTeam\"] == team) | (df[\"HomeTeam\"] == team)]\n",
    "    \n",
    "    draws_game = team_games[team_games[\"FTR\"] == \"D\"]\n",
    "    all_teams[team] = f\"{len(draws_game) / len(team_games) * 100:.3f}%\"\n",
    "print(all_teams)"
   ]
  },
  {
   "cell_type": "markdown",
   "metadata": {},
   "source": [
    "## תרגיל 17"
   ]
  },
  {
   "cell_type": "code",
   "execution_count": 103,
   "metadata": {},
   "outputs": [
    {
     "name": "stdout",
     "output_type": "stream",
     "text": [
      "0 from 27\n"
     ]
    }
   ],
   "source": [
    "all_seasons = list(dict.fromkeys(list(df[\"Season\"])))\n",
    "\n",
    "count = 0\n",
    "for season, the_season in df.groupby(\"Season\"):\n",
    "    seas_teams = dict.fromkeys(list(the_season[\"AwayTeam\"]))\n",
    "    \n",
    "    for team in seas_teams:\n",
    "        team_Hgames = the_season[the_season[\"HomeTeam\"] == team]\n",
    "        team_Agames = the_season[the_season[\"AwayTeam\"] == team]\n",
    "        \n",
    "        team_golls = team_Agames[\"FTAG\"].sum() + team_Hgames[\"FTHG\"].sum()\n",
    "        seas_teams[team] = team_golls\n",
    "    \n",
    "    seas_teams = sorted(seas_teams.items(), key=lambda x: x[0], reverse=True)\n",
    "    most_golls_team = seas_teams[0][0]\n",
    "    \n",
    "    # שימוש בטבלה שיצרנו בתרגיל 14 כדי להשיג את מנצח הליגה\n",
    "    win_league = seas_table[seas_table[\"Season\"] == season].values[0][1]\n",
    "    \n",
    "    if most_golls_team == win_league:\n",
    "        count += 1\n",
    "\n",
    "print(f\"{count} from {len(all_seasons)}\")"
   ]
  },
  {
   "cell_type": "markdown",
   "metadata": {},
   "source": [
    "## תרגיל 18"
   ]
  },
  {
   "cell_type": "code",
   "execution_count": null,
   "metadata": {},
   "outputs": [],
   "source": [
    "all_teams = list(dict.fromkeys(list(df[\"AwayTeam\"])))\n",
    "\n",
    "for team in all_teams:\n",
    "    team_Hgames = df[df[\"HomeTeam\"] == team]\n",
    "    team_Agames = df[df[\"AwayTeam\"] == team]\n",
    "    \n",
    "    for Agame in team_Agames.values:\n",
    "        "
   ]
  }
 ],
 "metadata": {
  "kernelspec": {
   "display_name": "Python 3",
   "language": "python",
   "name": "python3"
  },
  "language_info": {
   "codemirror_mode": {
    "name": "ipython",
    "version": 3
   },
   "file_extension": ".py",
   "mimetype": "text/x-python",
   "name": "python",
   "nbconvert_exporter": "python",
   "pygments_lexer": "ipython3",
   "version": "3.6.7"
  }
 },
 "nbformat": 4,
 "nbformat_minor": 4
}
