{
 "cells": [
  {
   "cell_type": "code",
   "execution_count": 1,
   "metadata": {},
   "outputs": [],
   "source": [
    "import pandas as pd\n",
    "import matplotlib.pyplot as plt\n",
    "df = pd.read_csv(\"files/results.csv\")"
   ]
  },
  {
   "cell_type": "markdown",
   "metadata": {},
   "source": [
    "##  תרגיל 1"
   ]
  },
  {
   "cell_type": "markdown",
   "metadata": {},
   "source": [
    "###### מה ההסתברות של ניצחון של הקבוצה המארחת בעונת 2008 ? "
   ]
  },
  {
   "cell_type": "code",
   "execution_count": 180,
   "metadata": {},
   "outputs": [
    {
     "name": "stdout",
     "output_type": "stream",
     "text": [
      "45.52632%\n"
     ]
    }
   ],
   "source": [
    "season2008 = df[df[\"Season\"] == \"2008-09\"]\n",
    "print(f\"{(season2008['FTR'] == 'H').mean() * 100:.5f}%\")"
   ]
  },
  {
   "cell_type": "markdown",
   "metadata": {},
   "source": [
    "## תרגיל 2"
   ]
  },
  {
   "cell_type": "markdown",
   "metadata": {},
   "source": [
    "###### צייר את ההסתברות לניצחון של הקבוצה המארחת לאורך השנים.\n",
    "###### ציר ה x - העונה\n",
    "###### ציר ה y - ההסתברות לניצחון של הקבוצה המארחת."
   ]
  },
  {
   "cell_type": "code",
   "execution_count": 181,
   "metadata": {},
   "outputs": [
    {
     "data": {
      "text/plain": [
       "<AxesSubplot:xlabel='Season'>"
      ]
     },
     "execution_count": 181,
     "metadata": {},
     "output_type": "execute_result"
    },
    {
     "data": {
      "image/png": "[encoded data removed]",
      "text/plain": [
       "<Figure size 432x288 with 1 Axes>"
      ]
     },
     "metadata": {
      "needs_background": "light"
     },
     "output_type": "display_data"
    }
   ],
   "source": [
    "all_seasons = df.groupby(\"Season\").apply(lambda df: (df[\"FTR\"] == \"H\").mean() * 100)\n",
    "all_seasons.plot()"
   ]
  },
  {
   "cell_type": "markdown",
   "metadata": {},
   "source": [
    "## תרגיל 3"
   ]
  },
  {
   "cell_type": "markdown",
   "metadata": {},
   "source": [
    "### אם קבוצה מסוימת היתה משנה את השם שלה בין העונה 2012/2013 לעונה 2013/2014 איך היינו רואים את זה בנתונים ?"
   ]
  },
  {
   "cell_type": "markdown",
   "metadata": {},
   "source": [
    "היינו רואים שבעונה 2012/2013 היא נמצאת בליגה ובעונה 2013/2014 כבר לא.\n",
    "היה יותר קל לזהות את זה אם הקבוצה לא הייתה אמורה לרדת ליגה בעונה 2012/2013 כי אז היינו יודעים שלא בגלל זה היא נעלמה."
   ]
  },
  {
   "cell_type": "markdown",
   "metadata": {},
   "source": [
    "## תרגיל 4"
   ]
  },
  {
   "cell_type": "markdown",
   "metadata": {},
   "source": [
    "האם יש קבוצה שניתן לזהות שהיא שינתה את השם שלה ?"
   ]
  },
  {
   "cell_type": "code",
   "execution_count": 182,
   "metadata": {},
   "outputs": [
    {
     "name": "stdout",
     "output_type": "stream",
     "text": [
      "Middlesbrough : Barnsley\n",
      "Sheffield United : Derby\n",
      "Sheffield United : Sunderland\n",
      "Sheffield United : Birmingham\n",
      "Reading : Hull\n"
     ]
    }
   ],
   "source": [
    "seasons = list(seas_table.groupby(\"Season\"))\n",
    "\n",
    "for ind, (seasN, season_df) in enumerate(seasons[:-1]):\n",
    "    seas_teams = set(season_df[\"Team\"].iloc[:-3])\n",
    "    next_seas_teams = set(seasons[ind + 1][1][\"Team\"])\n",
    "    \n",
    "    gone_teams = seas_teams.difference(next_seas_teams)\n",
    "    \n",
    "    for gone_team in gone_teams:\n",
    "        for new_team in next_seas_teams.difference(seas_teams):\n",
    "            played_parallel = seas_table.groupby(\"Season\").apply(lambda df: {gone_team, new_team} <= set(df[\"Team\"]))\n",
    "            \n",
    "            if not played_parallel.any():\n",
    "                print(gone_team, ':', new_team)"
   ]
  },
  {
   "cell_type": "markdown",
   "metadata": {},
   "source": [
    "## תרגיל 5 ו - 6"
   ]
  },
  {
   "cell_type": "markdown",
   "metadata": {},
   "source": [
    "5. תספור לכל קבוצה, בכמה עונות היא שיחקה\n",
    "6. מי הן 5 הקבוצות ששיחקו בהכי הרבה עונות?"
   ]
  },
  {
   "cell_type": "code",
   "execution_count": 183,
   "metadata": {},
   "outputs": [
    {
     "name": "stdout",
     "output_type": "stream",
     "text": [
      "Liverpool           27\n",
      "Everton             27\n",
      "Chelsea             27\n",
      "Tottenham           27\n",
      "Arsenal             27\n",
      "Man United          27\n",
      "Newcastle           25\n",
      "Aston Villa         24\n",
      "West Ham            24\n",
      "Man City            22\n",
      "Southampton         20\n",
      "Blackburn           17\n",
      "Sunderland          16\n",
      "Leicester           14\n",
      "Fulham              14\n",
      "Middlesbrough       14\n",
      "Bolton              13\n",
      "West Brom           12\n",
      "Leeds               11\n",
      "Crystal Palace      10\n",
      "Stoke               10\n",
      "Norwich              8\n",
      "Charlton             8\n",
      "Wigan                8\n",
      "Coventry             8\n",
      "Portsmouth           7\n",
      "Derby                7\n",
      "Watford              7\n",
      "Swansea              7\n",
      "Sheffield Weds       7\n",
      "Birmingham           7\n",
      "Wimbledon            7\n",
      "QPR                  6\n",
      "Burnley              6\n",
      "Wolves               6\n",
      "Hull                 5\n",
      "Bournemouth          5\n",
      "Ipswich              4\n",
      "Nott'm Forest        4\n",
      "Brighton             3\n",
      "Sheffield United     3\n",
      "Reading              3\n",
      "Huddersfield         2\n",
      "Bradford             2\n",
      "Cardiff              2\n",
      "Oldham               1\n",
      "Swindon              1\n",
      "Blackpool            1\n",
      "Barnsley             1\n",
      "Name: HomeTeam, dtype: int64\n",
      "\n",
      "\n",
      "\n",
      "The 5 teams that have appeared in the most seasons:\n",
      "\n",
      "Liverpool    27\n",
      "Everton      27\n",
      "Chelsea      27\n",
      "Tottenham    27\n",
      "Arsenal      27\n",
      "Name: HomeTeam, dtype: int64\n"
     ]
    }
   ],
   "source": [
    "n_seasons_apear = df.groupby('Season')['HomeTeam'].apply(lambda x: x.drop_duplicates()).value_counts()\n",
    "print(n_seasons_apear)\n",
    "print(f\"\\n\\n\\nThe 5 teams that have appeared in the most seasons:\\n\\n{n_seasons_apear.head()}\")"
   ]
  },
  {
   "cell_type": "markdown",
   "metadata": {},
   "source": [
    "## תרגיל 7"
   ]
  },
  {
   "cell_type": "markdown",
   "metadata": {},
   "source": [
    "האם יש עונות שחונות בשערים ? תשרטט את כמות השערים הכוללת בעונה לאורך השנים."
   ]
  },
  {
   "cell_type": "code",
   "execution_count": 184,
   "metadata": {},
   "outputs": [
    {
     "data": {
      "text/plain": [
       "<AxesSubplot:xlabel='Season'>"
      ]
     },
     "execution_count": 184,
     "metadata": {},
     "output_type": "execute_result"
    },
    {
     "data": {
      "image/png": "[encoded data removed]",
      "text/plain": [
       "<Figure size 432x288 with 1 Axes>"
      ]
     },
     "metadata": {
      "needs_background": "light"
     },
     "output_type": "display_data"
    }
   ],
   "source": [
    "all_seasons = df.groupby('Season').apply(lambda df: (df['FTHG'] + df['FTAG']).sum())\n",
    "all_seasons.plot()"
   ]
  },
  {
   "cell_type": "markdown",
   "metadata": {},
   "source": [
    "## תרגיל 8"
   ]
  },
  {
   "cell_type": "markdown",
   "metadata": {},
   "source": [
    "האם יש לקבוצות נטייה להבקיע יותר/פחות שערים במחזורים מסוימים ?\n",
    "שרטט על גרף אחד את התפלגות כמות השערים במחזורים.\n",
    "כלומר, תשרטט גרף התפלגות אחד לכל  שלושה מחזורים עוקבים."
   ]
  },
  {
   "cell_type": "code",
   "execution_count": 6,
   "metadata": {},
   "outputs": [
    {
     "data": {
      "image/png": "[encoded data removed]",
      "text/plain": [
       "<Figure size 432x288 with 1 Axes>"
      ]
     },
     "metadata": {
      "needs_background": "light"
     },
     "output_type": "display_data"
    }
   ],
   "source": [
    "seasons = df.groupby(\"Season\")\n",
    "\n",
    "# יצירת עמודה המכילה את מס' המחזור של אותו משחק\n",
    "all_cycly = []\n",
    "for seasonName, season in seasons:\n",
    "    n_teams = season[\"AwayTeam\"].nunique()\n",
    "\n",
    "    e = list(range(1, (n_teams - 1) * 2 + 1)) * int(n_teams / 2)\n",
    "    e.sort()\n",
    "    \n",
    "    all_cycly = all_cycly + e\n",
    "\n",
    "\n",
    "df[\"Cycle\"] = all_cycly\n",
    "##\n",
    "\n",
    "df[\"group\"] = list((df[\"Cycle\"] - 1) // 3 + 1)\n",
    "\n",
    "groups = df.groupby(\"group\").apply(lambda df: df['FTHG'] + df['FTAG']).groupby('group').hist()"
   ]
  },
  {
   "cell_type": "markdown",
   "metadata": {},
   "source": [
    "## תרגיל 9"
   ]
  },
  {
   "cell_type": "markdown",
   "metadata": {},
   "source": [
    "האם בכל עונה יש את אותה כמות המחזורים ?"
   ]
  },
  {
   "cell_type": "code",
   "execution_count": 7,
   "metadata": {},
   "outputs": [
    {
     "data": {
      "text/plain": [
       "False"
      ]
     },
     "execution_count": 7,
     "metadata": {},
     "output_type": "execute_result"
    }
   ],
   "source": [
    "df.groupby('Season')['Cycle'].nunique().nunique() == 1"
   ]
  },
  {
   "cell_type": "markdown",
   "metadata": {},
   "source": [
    "## תרגיל 10"
   ]
  },
  {
   "cell_type": "markdown",
   "metadata": {},
   "source": [
    "כמה קבוצות שיחקו בליגה לאורך השנים ?"
   ]
  },
  {
   "cell_type": "code",
   "execution_count": 9,
   "metadata": {},
   "outputs": [
    {
     "data": {
      "text/plain": [
       "49"
      ]
     },
     "execution_count": 9,
     "metadata": {},
     "output_type": "execute_result"
    }
   ],
   "source": [
    "df[\"AwayTeam\"].nunique()"
   ]
  },
  {
   "cell_type": "markdown",
   "metadata": {},
   "source": [
    "## תרגיל 11"
   ]
  },
  {
   "cell_type": "markdown",
   "metadata": {},
   "source": [
    "כמה מחזורים יש בכל עונה ?"
   ]
  },
  {
   "cell_type": "code",
   "execution_count": 10,
   "metadata": {},
   "outputs": [
    {
     "data": {
      "text/plain": [
       "Season\n",
       "1993-94    42\n",
       "1994-95    42\n",
       "1995-96    38\n",
       "1996-97    38\n",
       "1997-98    38\n",
       "1998-99    38\n",
       "1999-00    38\n",
       "2000-01    38\n",
       "2001-02    38\n",
       "2002-03    38\n",
       "2003-04    38\n",
       "2004-05    38\n",
       "2005-06    38\n",
       "2006-07    38\n",
       "2007-08    38\n",
       "2008-09    38\n",
       "2009-10    38\n",
       "2010-11    38\n",
       "2011-12    38\n",
       "2012-13    38\n",
       "2013-14    38\n",
       "2014-15    38\n",
       "2015-16    38\n",
       "2016-17    38\n",
       "2017-18    38\n",
       "2018-19    38\n",
       "2019-20    38\n",
       "Name: Cycle, dtype: int64"
      ]
     },
     "execution_count": 10,
     "metadata": {},
     "output_type": "execute_result"
    }
   ],
   "source": [
    "df.groupby(\"Season\")[\"Cycle\"].nunique()"
   ]
  },
  {
   "cell_type": "markdown",
   "metadata": {},
   "source": [
    "## תרגיל 12"
   ]
  },
  {
   "cell_type": "markdown",
   "metadata": {},
   "source": [
    "האם יש קבוצות שהשתתפו בעונה מסוימת, אבל לא שיחקו בה בכל המחזורים ? "
   ]
  },
  {
   "cell_type": "code",
   "execution_count": 189,
   "metadata": {},
   "outputs": [],
   "source": [
    "teamseas = seas_table.groupby('Season')['Team']\n",
    "\n",
    "for seas, seas_teams in teamseas:\n",
    "    seas_games = df[df['Season'] == seas]\n",
    "    for team in seas_teams:\n",
    "        n_team_games = (seas_games['HomeTeam'] == team).sum() + (seas_games['AwayTeam'] == team).sum()\n",
    "        \n",
    "        if n_team_games != (len(seas_teams) - 1) * 2:\n",
    "            print(f'in season {seas} {team} played {n_team_games - (len(seas_teams) - 1) * 2} games more\\less from what they were supposed to')"
   ]
  },
  {
   "cell_type": "markdown",
   "metadata": {},
   "source": [
    "## תרגיל 13"
   ]
  },
  {
   "cell_type": "markdown",
   "metadata": {},
   "source": [
    "תחשב לכל משחק, כמה נקודות כל קבוצה צברה במשחק."
   ]
  },
  {
   "cell_type": "code",
   "execution_count": 190,
   "metadata": {},
   "outputs": [
    {
     "data": {
      "text/html": [
       "<div>\n",
       "<style scoped>\n",
       "    .dataframe tbody tr th:only-of-type {\n",
       "        vertical-align: middle;\n",
       "    }\n",
       "\n",
       "    .dataframe tbody tr th {\n",
       "        vertical-align: top;\n",
       "    }\n",
       "\n",
       "    .dataframe thead th {\n",
       "        text-align: right;\n",
       "    }\n",
       "</style>\n",
       "<table border=\"1\" class=\"dataframe\">\n",
       "  <thead>\n",
       "    <tr style=\"text-align: right;\">\n",
       "      <th></th>\n",
       "      <th>Season</th>\n",
       "      <th>HomeTeam</th>\n",
       "      <th>AwayTeam</th>\n",
       "      <th>FTHG</th>\n",
       "      <th>FTAG</th>\n",
       "      <th>FTR</th>\n",
       "      <th>Points</th>\n",
       "    </tr>\n",
       "  </thead>\n",
       "  <tbody>\n",
       "    <tr>\n",
       "      <th>0</th>\n",
       "      <td>1993-94</td>\n",
       "      <td>Arsenal</td>\n",
       "      <td>Coventry</td>\n",
       "      <td>0</td>\n",
       "      <td>3</td>\n",
       "      <td>A</td>\n",
       "      <td>Coventry +3</td>\n",
       "    </tr>\n",
       "    <tr>\n",
       "      <th>1</th>\n",
       "      <td>1993-94</td>\n",
       "      <td>Aston Villa</td>\n",
       "      <td>QPR</td>\n",
       "      <td>4</td>\n",
       "      <td>1</td>\n",
       "      <td>H</td>\n",
       "      <td>Aston Villa +3</td>\n",
       "    </tr>\n",
       "    <tr>\n",
       "      <th>2</th>\n",
       "      <td>1993-94</td>\n",
       "      <td>Chelsea</td>\n",
       "      <td>Blackburn</td>\n",
       "      <td>1</td>\n",
       "      <td>2</td>\n",
       "      <td>A</td>\n",
       "      <td>Blackburn +3</td>\n",
       "    </tr>\n",
       "    <tr>\n",
       "      <th>3</th>\n",
       "      <td>1993-94</td>\n",
       "      <td>Liverpool</td>\n",
       "      <td>Sheffield Weds</td>\n",
       "      <td>2</td>\n",
       "      <td>0</td>\n",
       "      <td>H</td>\n",
       "      <td>Liverpool +3</td>\n",
       "    </tr>\n",
       "    <tr>\n",
       "      <th>4</th>\n",
       "      <td>1993-94</td>\n",
       "      <td>Man City</td>\n",
       "      <td>Leeds</td>\n",
       "      <td>1</td>\n",
       "      <td>1</td>\n",
       "      <td>D</td>\n",
       "      <td>Each team +1</td>\n",
       "    </tr>\n",
       "    <tr>\n",
       "      <th>...</th>\n",
       "      <td>...</td>\n",
       "      <td>...</td>\n",
       "      <td>...</td>\n",
       "      <td>...</td>\n",
       "      <td>...</td>\n",
       "      <td>...</td>\n",
       "      <td>...</td>\n",
       "    </tr>\n",
       "    <tr>\n",
       "      <th>10419</th>\n",
       "      <td>2019-20</td>\n",
       "      <td>Leicester</td>\n",
       "      <td>Man United</td>\n",
       "      <td>0</td>\n",
       "      <td>2</td>\n",
       "      <td>A</td>\n",
       "      <td>Man United +3</td>\n",
       "    </tr>\n",
       "    <tr>\n",
       "      <th>10420</th>\n",
       "      <td>2019-20</td>\n",
       "      <td>Man City</td>\n",
       "      <td>Norwich</td>\n",
       "      <td>5</td>\n",
       "      <td>0</td>\n",
       "      <td>H</td>\n",
       "      <td>Man City +3</td>\n",
       "    </tr>\n",
       "    <tr>\n",
       "      <th>10421</th>\n",
       "      <td>2019-20</td>\n",
       "      <td>Newcastle</td>\n",
       "      <td>Liverpool</td>\n",
       "      <td>1</td>\n",
       "      <td>3</td>\n",
       "      <td>A</td>\n",
       "      <td>Liverpool +3</td>\n",
       "    </tr>\n",
       "    <tr>\n",
       "      <th>10422</th>\n",
       "      <td>2019-20</td>\n",
       "      <td>Southampton</td>\n",
       "      <td>Sheffield United</td>\n",
       "      <td>3</td>\n",
       "      <td>1</td>\n",
       "      <td>H</td>\n",
       "      <td>Southampton +3</td>\n",
       "    </tr>\n",
       "    <tr>\n",
       "      <th>10423</th>\n",
       "      <td>2019-20</td>\n",
       "      <td>West Ham</td>\n",
       "      <td>Aston Villa</td>\n",
       "      <td>1</td>\n",
       "      <td>1</td>\n",
       "      <td>D</td>\n",
       "      <td>Each team +1</td>\n",
       "    </tr>\n",
       "  </tbody>\n",
       "</table>\n",
       "<p>10424 rows × 7 columns</p>\n",
       "</div>"
      ],
      "text/plain": [
       "        Season     HomeTeam          AwayTeam  FTHG  FTAG FTR          Points\n",
       "0      1993-94      Arsenal          Coventry     0     3   A     Coventry +3\n",
       "1      1993-94  Aston Villa               QPR     4     1   H  Aston Villa +3\n",
       "2      1993-94      Chelsea         Blackburn     1     2   A    Blackburn +3\n",
       "3      1993-94    Liverpool    Sheffield Weds     2     0   H    Liverpool +3\n",
       "4      1993-94     Man City             Leeds     1     1   D    Each team +1\n",
       "...        ...          ...               ...   ...   ...  ..             ...\n",
       "10419  2019-20    Leicester        Man United     0     2   A   Man United +3\n",
       "10420  2019-20     Man City           Norwich     5     0   H     Man City +3\n",
       "10421  2019-20    Newcastle         Liverpool     1     3   A    Liverpool +3\n",
       "10422  2019-20  Southampton  Sheffield United     3     1   H  Southampton +3\n",
       "10423  2019-20     West Ham       Aston Villa     1     1   D    Each team +1\n",
       "\n",
       "[10424 rows x 7 columns]"
      ]
     },
     "execution_count": 190,
     "metadata": {},
     "output_type": "execute_result"
    }
   ],
   "source": [
    "Points_colomn = []\n",
    "\n",
    "for H, A, result in zip(df['HomeTeam'], df['AwayTeam'], df['FTR']):\n",
    "    if result == 'H':\n",
    "        Points_colomn.append(f\"{H} +3\")\n",
    "    elif result == 'A':\n",
    "        Points_colomn.append(f\"{A} +3\")\n",
    "    else:\n",
    "        Points_colomn.append(f\"Each team +1\")\n",
    "\n",
    "df[\"Points\"] = Points_colomn\n",
    "df[['Season', 'HomeTeam', 'AwayTeam', 'FTHG', 'FTAG', 'FTR', 'Points']]"
   ]
  },
  {
   "cell_type": "markdown",
   "metadata": {},
   "source": [
    "## 14 תרגיל"
   ]
  },
  {
   "cell_type": "markdown",
   "metadata": {},
   "source": [
    "תחשב לכל עונה את הניקוד הכולל של כל אחת מהקבוצות. כלומר, עליך לחשב טבלה עם שלוש עמודות - שם הקבוצה שם העונה כמות הניקוד הכוללת של הקבוצה בעונה."
   ]
  },
  {
   "cell_type": "code",
   "execution_count": 198,
   "metadata": {},
   "outputs": [
    {
     "data": {
      "text/html": [
       "<div>\n",
       "<style scoped>\n",
       "    .dataframe tbody tr th:only-of-type {\n",
       "        vertical-align: middle;\n",
       "    }\n",
       "\n",
       "    .dataframe tbody tr th {\n",
       "        vertical-align: top;\n",
       "    }\n",
       "\n",
       "    .dataframe thead th {\n",
       "        text-align: right;\n",
       "    }\n",
       "</style>\n",
       "<table border=\"1\" class=\"dataframe\">\n",
       "  <thead>\n",
       "    <tr style=\"text-align: right;\">\n",
       "      <th></th>\n",
       "      <th>Season</th>\n",
       "      <th>Team</th>\n",
       "      <th>Points in season</th>\n",
       "    </tr>\n",
       "  </thead>\n",
       "  <tbody>\n",
       "    <tr>\n",
       "      <th>0</th>\n",
       "      <td>1993-94</td>\n",
       "      <td>Man United</td>\n",
       "      <td>92</td>\n",
       "    </tr>\n",
       "    <tr>\n",
       "      <th>1</th>\n",
       "      <td>1993-94</td>\n",
       "      <td>Blackburn</td>\n",
       "      <td>84</td>\n",
       "    </tr>\n",
       "    <tr>\n",
       "      <th>2</th>\n",
       "      <td>1993-94</td>\n",
       "      <td>Newcastle</td>\n",
       "      <td>77</td>\n",
       "    </tr>\n",
       "    <tr>\n",
       "      <th>3</th>\n",
       "      <td>1993-94</td>\n",
       "      <td>Arsenal</td>\n",
       "      <td>71</td>\n",
       "    </tr>\n",
       "    <tr>\n",
       "      <th>4</th>\n",
       "      <td>1993-94</td>\n",
       "      <td>Leeds</td>\n",
       "      <td>70</td>\n",
       "    </tr>\n",
       "    <tr>\n",
       "      <th>...</th>\n",
       "      <td>...</td>\n",
       "      <td>...</td>\n",
       "      <td>...</td>\n",
       "    </tr>\n",
       "    <tr>\n",
       "      <th>539</th>\n",
       "      <td>2019-20</td>\n",
       "      <td>West Ham</td>\n",
       "      <td>39</td>\n",
       "    </tr>\n",
       "    <tr>\n",
       "      <th>540</th>\n",
       "      <td>2019-20</td>\n",
       "      <td>Aston Villa</td>\n",
       "      <td>35</td>\n",
       "    </tr>\n",
       "    <tr>\n",
       "      <th>541</th>\n",
       "      <td>2019-20</td>\n",
       "      <td>Watford</td>\n",
       "      <td>34</td>\n",
       "    </tr>\n",
       "    <tr>\n",
       "      <th>542</th>\n",
       "      <td>2019-20</td>\n",
       "      <td>Bournemouth</td>\n",
       "      <td>34</td>\n",
       "    </tr>\n",
       "    <tr>\n",
       "      <th>543</th>\n",
       "      <td>2019-20</td>\n",
       "      <td>Norwich</td>\n",
       "      <td>21</td>\n",
       "    </tr>\n",
       "  </tbody>\n",
       "</table>\n",
       "<p>544 rows × 3 columns</p>\n",
       "</div>"
      ],
      "text/plain": [
       "      Season         Team  Points in season\n",
       "0    1993-94   Man United                92\n",
       "1    1993-94    Blackburn                84\n",
       "2    1993-94    Newcastle                77\n",
       "3    1993-94      Arsenal                71\n",
       "4    1993-94        Leeds                70\n",
       "..       ...          ...               ...\n",
       "539  2019-20     West Ham                39\n",
       "540  2019-20  Aston Villa                35\n",
       "541  2019-20      Watford                34\n",
       "542  2019-20  Bournemouth                34\n",
       "543  2019-20      Norwich                21\n",
       "\n",
       "[544 rows x 3 columns]"
      ]
     },
     "execution_count": 198,
     "metadata": {},
     "output_type": "execute_result"
    }
   ],
   "source": [
    "data = {\"Season\": [], \"Team\": [], \"Points in season\": []}\n",
    "\n",
    "for season, the_season in df.groupby(\"Season\"):\n",
    "    \n",
    "    all_teams = list(set(the_season[\"AwayTeam\"]))\n",
    "    for team in all_teams:\n",
    "        n_team_wins = len(the_season[((the_season[\"HomeTeam\"] == team) & (the_season[\"FTR\"] == \"H\")) | ((the_season[\"AwayTeam\"] == team) & (the_season[\"FTR\"] == \"A\"))])\n",
    "\n",
    "        n_team_draws = len(the_season[((the_season[\"HomeTeam\"] == team) | (the_season[\"AwayTeam\"] == team)) & (the_season[\"FTR\"] == \"D\")])\n",
    "        team_seas_points = n_team_wins * 3 + n_team_draws\n",
    "\n",
    "        data[\"Season\"].append(season)\n",
    "        data[\"Team\"].append(team)\n",
    "        data[\"Points in season\"].append(team_seas_points)\n",
    "\n",
    "seas_table = pd.DataFrame(data).sort_values([\"Season\", \"Points in season\"], ascending=[True, False]).reset_index(drop=True)\n",
    "\n",
    "seas_table"
   ]
  },
  {
   "cell_type": "markdown",
   "metadata": {},
   "source": [
    "## תרגיל 15"
   ]
  },
  {
   "cell_type": "markdown",
   "metadata": {},
   "source": [
    "בהינתן שקבוצה סיימה בחמישייה הראשונה בעונה x מה הסיכוי שלה לסיים בחמישייה הראשונה בעונה x + 1 ?"
   ]
  },
  {
   "cell_type": "code",
   "execution_count": 192,
   "metadata": {},
   "outputs": [
    {
     "name": "stdout",
     "output_type": "stream",
     "text": [
      "75.385%\n"
     ]
    }
   ],
   "source": [
    "all_seasons = list(seas_table.groupby('Season'))\n",
    "\n",
    "count = 0\n",
    "for ind, (season, season_table) in enumerate(all_seasons[:-1]):\n",
    "    leading_seas_teams = set(season_table.head()['Team'])\n",
    "    \n",
    "    leading_next_seas_teams = set(all_seasons[ind + 1][1].head()['Team'])\n",
    "    \n",
    "    count += len(leading_seas_teams & leading_next_seas_teams)\n",
    "\n",
    "print(f\"{(count / ((len(all_seasons) - 1) * 5)) * 100:.3f}%\")"
   ]
  },
  {
   "cell_type": "markdown",
   "metadata": {},
   "source": [
    "## תרגיל 16"
   ]
  },
  {
   "cell_type": "markdown",
   "metadata": {},
   "source": [
    "נבדוק האם יש קבוצות שנוטות לייצר תוצאות תיקו באופן מיוחד\n",
    "א. תחשב את הסיכוי של כל קבוצה לייצר תוצאת תיקו\n",
    "ב. תשרטט את התפלגות הסיכויים \n",
    "אם יש קבוצה שחורגת ימינה מההתפלגות הנורמלית, אז ייתכן שהיא באמת נוטה לייצר תוצאות תיקו."
   ]
  },
  {
   "cell_type": "code",
   "execution_count": 193,
   "metadata": {},
   "outputs": [
    {
     "name": "stdout",
     "output_type": "stream",
     "text": [
      "Coventry            31.730769\n",
      "QPR                 22.457627\n",
      "Blackburn           26.452599\n",
      "Sheffield Weds      27.372263\n",
      "Leeds               25.821596\n",
      "Tottenham           24.854932\n",
      "Ipswich             23.125000\n",
      "Swindon             35.714286\n",
      "Everton             28.820116\n",
      "Wimbledon           29.927007\n",
      "Man United          21.663443\n",
      "Arsenal             25.435203\n",
      "Man City            22.156398\n",
      "Southampton         27.343750\n",
      "West Ham            25.760870\n",
      "Chelsea             24.081238\n",
      "Norwich             28.525641\n",
      "Newcastle           25.574113\n",
      "Sheffield United    32.203390\n",
      "Liverpool           24.564797\n",
      "Aston Villa         29.565217\n",
      "Oldham              30.952381\n",
      "Nott'm Forest       31.410256\n",
      "Leicester           26.865672\n",
      "Crystal Palace      23.437500\n",
      "Bolton              25.910931\n",
      "Middlesbrough       29.699248\n",
      "Sunderland          26.151316\n",
      "Derby               26.315789\n",
      "Barnsley            13.157895\n",
      "Charlton            26.973684\n",
      "Bradford            26.315789\n",
      "Watford             22.932331\n",
      "Fulham              26.503759\n",
      "West Brom           28.070175\n",
      "Birmingham          30.827068\n",
      "Wolves              27.631579\n",
      "Portsmouth          24.436090\n",
      "Wigan               25.000000\n",
      "Reading             20.175439\n",
      "Stoke               28.684211\n",
      "Hull                25.263158\n",
      "Burnley             23.245614\n",
      "Blackpool           23.684211\n",
      "Swansea             24.812030\n",
      "Cardiff             17.105263\n",
      "Bournemouth         22.631579\n",
      "Huddersfield        22.368421\n",
      "Brighton            31.578947\n",
      "dtype: float64\n"
     ]
    },
    {
     "data": {
      "text/plain": [
       "<matplotlib.axes._axes.Axes at 0x1ab4695ac18>"
      ]
     },
     "execution_count": 193,
     "metadata": {},
     "output_type": "execute_result"
    },
    {
     "data": {
      "image/png": "[encoded data removed]",
      "text/plain": [
       "<Figure size 432x288 with 2 Axes>"
      ]
     },
     "metadata": {
      "needs_background": "light"
     },
     "output_type": "display_data"
    }
   ],
   "source": [
    "all_teams = dict.fromkeys(list(df[\"AwayTeam\"]))\n",
    "\n",
    "for team in all_teams:\n",
    "    team_games = df[(df[\"AwayTeam\"] == team) | (df[\"HomeTeam\"] == team)]\n",
    "    \n",
    "    draws_game = team_games[team_games[\"FTR\"] == \"D\"]\n",
    "    all_teams[team] = len(draws_game) / len(team_games) * 100\n",
    "\n",
    "chance_each_team = pd.DataFrame([all_teams]).mean()\n",
    "\n",
    "print(chance_each_team)\n",
    "\n",
    "plt.axes([0, 0, 0.6, 0.5])\n",
    "chance_each_team.hist()\n",
    "\n",
    "plt.axes([0.67, 0, 1.3, 0.5])\n",
    "chance_each_team.plot(kind='bar', rot=80)"
   ]
  },
  {
   "cell_type": "markdown",
   "metadata": {},
   "source": [
    "## תרגיל 17"
   ]
  },
  {
   "cell_type": "markdown",
   "metadata": {},
   "source": [
    "האם להבקיע כמות מקסימלית של שערים מבטיח מקום ראשון בליגה ?\n",
    "תחשב מי הקבוצה שהבקיעה הכי הרבה שערים בכל עונה.\n",
    "תבדוק  כמה מתוכן סיימו ראשונות"
   ]
  },
  {
   "cell_type": "code",
   "execution_count": 194,
   "metadata": {},
   "outputs": [
    {
     "name": "stdout",
     "output_type": "stream",
     "text": [
      "11 from 27\n"
     ]
    }
   ],
   "source": [
    "all_seasons = list(seas_table.groupby('Season'))\n",
    "count = 0\n",
    "for seas, sea_table in all_seasons:\n",
    "    team_win = seas_table['Team'].iloc[0]\n",
    "    \n",
    "    seas_game = df[df['Season'] == seas]\n",
    "    teams_golls = {}\n",
    "    \n",
    "    for team in sea_table['Team']:\n",
    "        teams_golls[team] = seas_game[seas_game['HomeTeam'] == team]['FTHG'].sum() + seas_game[seas_game['AwayTeam'] == team]['FTAG'].sum()\n",
    "    \n",
    "    teams_golls = sorted(teams_golls.items(), key=lambda x: x[1], reverse=True)\n",
    "    \n",
    "    count += teams_golls[0][0] == team_win\n",
    "\n",
    "print(f'{count} from {len(all_seasons)}')"
   ]
  },
  {
   "cell_type": "markdown",
   "metadata": {},
   "source": [
    "## תרגיל 18"
   ]
  },
  {
   "cell_type": "markdown",
   "metadata": {},
   "source": [
    "בהינתן שקבוצה מנצחת שני משחקים ברצף, מה הסיכוי שלה לנצח את המשחק שלאחר מכן ?"
   ]
  },
  {
   "cell_type": "code",
   "execution_count": 195,
   "metadata": {},
   "outputs": [
    {
     "name": "stdout",
     "output_type": "stream",
     "text": [
      "46.78606%\n"
     ]
    }
   ],
   "source": [
    "all_teams = list(dict.fromkeys(df['HomeTeam']))\n",
    "\n",
    "two_in_row = 0\n",
    "three_in_row = 0\n",
    "\n",
    "for team in all_teams:\n",
    "    team_games = df[(df['HomeTeam'] == team) | (df['AwayTeam'] == team)]['Points'].reset_index(drop=True)\n",
    "    \n",
    "    for fir_ind in range(len(team_games) - 3):\n",
    "        bool_s = team + ' +3' == team_games.iloc[fir_ind] and team + ' +3' == team_games.iloc[fir_ind + 1]\n",
    "        two_in_row += bool_s\n",
    "        three_in_row += bool_s and team + ' +3' == team_games.iloc[fir_ind + 2]\n",
    "\n",
    "print(f'{three_in_row / two_in_row * 100:.5f}%')"
   ]
  },
  {
   "cell_type": "markdown",
   "metadata": {},
   "source": [
    "## תרגיל 19"
   ]
  },
  {
   "cell_type": "markdown",
   "metadata": {},
   "source": [
    "###### X אם במחזור\n",
    "###### קבוצה הפסידה משחק וקבוצה אחרת ניצחה משחק,\n",
    "###### X+1 והן נפגשות במחזור\n",
    "###### מה הסיכוי של כל אחת מהן לנצח ?"
   ]
  },
  {
   "cell_type": "code",
   "execution_count": 196,
   "metadata": {},
   "outputs": [
    {
     "name": "stdout",
     "output_type": "stream",
     "text": [
      "The team that win in the last cycle have 64.69719% to win.\n",
      "And The team that win in the last cycle have 35.30281% to win.\n"
     ]
    }
   ],
   "source": [
    "# (שימוש בעמודה שנוצרה בתרגיל 13 (עמודה של כמה נקודות כל קבוצה הרוויחה במשחק) כדי ליצר עוד עמודה המכילה את הקבוצה המנצחת (אם יש ואם לא להשאיר ריק\n",
    "df['TeamWin'] = df['Points'].apply(lambda x: x.replace(' +3', '') if x.endswith('+3') else None)\n",
    "\n",
    "cycles = list(df.groupby('Cycle'))\n",
    "\n",
    "two_team_meet_like_that = 0\n",
    "the_lost_wins = 0\n",
    "the_win_wins = 0\n",
    "\n",
    "for ind, (cycle_n, cycle) in enumerate(cycles[1:]):\n",
    "    last_cycle = cycles[ind][1]\n",
    "    \n",
    "    for game in cycle.iloc:\n",
    "        home = game.loc['HomeTeam']\n",
    "        away = game.loc['AwayTeam']\n",
    "        \n",
    "        if_home_last_win = home in list(last_cycle['TeamWin'])\n",
    "        if_away_last_win = away in list(last_cycle['TeamWin'])\n",
    "        \n",
    "        if not(if_home_last_win ^ if_away_last_win) or (game['FTR'] == 'D'):\n",
    "            continue\n",
    "        \n",
    "        two_team_meet_like_that += 1\n",
    "        \n",
    "        if if_home_last_win:\n",
    "            win_last = home\n",
    "        else:\n",
    "            win_last = away\n",
    "        \n",
    "        if game.loc['TeamWin'] == win_last:\n",
    "            the_win_wins += 1\n",
    "        else:\n",
    "            the_lost_wins += 1\n",
    "\n",
    "print(f'The team that win in the last cycle have {the_win_wins / two_team_meet_like_that * 100:.5f}% to win.')\n",
    "print(f'And The team that win in the last cycle have {the_lost_wins / two_team_meet_like_that * 100:.5f}% to win.')"
   ]
  },
  {
   "cell_type": "markdown",
   "metadata": {},
   "source": [
    "### פתרון שני לתרגיל 19, לא הייתי בטוח איזה אחד עדיף אז שמתי את שניהם."
   ]
  },
  {
   "cell_type": "code",
   "execution_count": 197,
   "metadata": {},
   "outputs": [
    {
     "name": "stdout",
     "output_type": "stream",
     "text": [
      "The team that win in the last cycle     64.697194\n",
      "The team that lost in the last cycle    35.302806\n",
      "Name: chance to win (%), dtype: float64\n"
     ]
    }
   ],
   "source": [
    "df['TeamWin'] = df['Points'].apply(lambda x: x.replace(' +3', '') if x.endswith('+3') else None)\n",
    "\n",
    "cycles = list(df.groupby('Cycle'))\n",
    "\n",
    "answer = []\n",
    "\n",
    "for ind, (cycle_n, cycle) in enumerate(cycles[1:]):\n",
    "    last_cycle = cycles[ind][1]\n",
    "    \n",
    "    for game in cycle.iloc:\n",
    "        home = game.loc['HomeTeam']\n",
    "        away = game.loc['AwayTeam']\n",
    "        \n",
    "        if_home_last_win = home in list(last_cycle['TeamWin'])\n",
    "        if_away_last_win = away in list(last_cycle['TeamWin'])\n",
    "        \n",
    "        if not(if_home_last_win ^ if_away_last_win) or (game['FTR'] == 'D'):\n",
    "            continue\n",
    "        \n",
    "        if if_home_last_win:\n",
    "            win_last = home\n",
    "            loos_last = away\n",
    "        else:\n",
    "            win_last = away\n",
    "            loos_last = home\n",
    "        \n",
    "        if game.loc['TeamWin'] == win_last:\n",
    "            answer.append('The team that win in the last cycle')\n",
    "        else:\n",
    "            answer.append('The team that lost in the last cycle')\n",
    "print(pd.Series(answer, name='chance to win (%)').value_counts(normalize=True) * 100)"
   ]
  }
 ],
 "metadata": {
  "kernelspec": {
   "display_name": "Python 3",
   "language": "python",
   "name": "python3"
  },
  "language_info": {
   "codemirror_mode": {
    "name": "ipython",
    "version": 3
   },
   "file_extension": ".py",
   "mimetype": "text/x-python",
   "name": "python",
   "nbconvert_exporter": "python",
   "pygments_lexer": "ipython3",
   "version": "3.6.7"
  }
 },
 "nbformat": 4,
 "nbformat_minor": 4
}
