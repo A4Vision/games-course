{
 "cells": [
  {
   "cell_type": "code",
   "execution_count": 2,
   "metadata": {},
   "outputs": [],
   "source": [
    "import pandas as pd\n",
    "import matplotlib.pyplot as plt\n",
    "df = pd.read_csv(\"files/results.csv\")\n",
    "df = df.sort_values('Date').reset_index(drop=True)"
   ]
  },
  {
   "cell_type": "markdown",
   "metadata": {},
   "source": [
    "##  תרגיל 1"
   ]
  },
  {
   "cell_type": "markdown",
   "metadata": {},
   "source": [
    "###### מה ההסתברות של ניצחון של הקבוצה המארחת בעונת 2008 ? "
   ]
  },
  {
   "cell_type": "code",
   "execution_count": 10,
   "metadata": {},
   "outputs": [
    {
     "name": "stdout",
     "output_type": "stream",
     "text": [
      "45.52632%\n"
     ]
    }
   ],
   "source": [
    "season2008 = df[df[\"Season\"] == \"2008-09\"]\n",
    "print(f\"{(season2008['FTR'] == 'H').mean() * 100:.5f}%\")"
   ]
  },
  {
   "cell_type": "markdown",
   "metadata": {},
   "source": [
    "## תרגיל 2"
   ]
  },
  {
   "cell_type": "markdown",
   "metadata": {},
   "source": [
    "###### צייר את ההסתברות לניצחון של הקבוצה המארחת לאורך השנים.\n",
    "###### ציר ה x - העונה\n",
    "###### ציר ה y - ההסתברות לניצחון של הקבוצה המארחת."
   ]
  },
  {
   "cell_type": "code",
   "execution_count": 11,
   "metadata": {},
   "outputs": [
    {
     "data": {
      "text/plain": [
       "<AxesSubplot:xlabel='Season'>"
      ]
     },
     "execution_count": 11,
     "metadata": {},
     "output_type": "execute_result"
    },
    {
     "data": {
      "image/png": "[encoded data removed]",
      "text/plain": [
       "<Figure size 432x288 with 1 Axes>"
      ]
     },
     "metadata": {
      "needs_background": "light"
     },
     "output_type": "display_data"
    }
   ],
   "source": [
    "all_seasons = df.groupby(\"Season\").apply(lambda df: (df[\"FTR\"] == \"H\").mean() * 100)\n",
    "all_seasons.plot()"
   ]
  },
  {
   "cell_type": "markdown",
   "metadata": {},
   "source": [
    "## תרגיל 3"
   ]
  },
  {
   "cell_type": "markdown",
   "metadata": {},
   "source": [
    "### אם קבוצה מסוימת היתה משנה את השם שלה בין העונה 2012/2013 לעונה 2013/2014 איך היינו רואים את זה בנתונים ?"
   ]
  },
  {
   "cell_type": "markdown",
   "metadata": {},
   "source": [
    "היינו רואים שבעונה 2012/2013 היא נמצאת בליגה ובעונה 2013/2014 כבר לא.\n",
    "היה יותר קל לזהות את זה אם הקבוצה לא הייתה אמורה לרדת ליגה בעונה 2012/2013 כי אז היינו יודעים שלא בגלל זה היא נעלמה."
   ]
  },
  {
   "cell_type": "markdown",
   "metadata": {},
   "source": [
    "## תרגיל 4"
   ]
  },
  {
   "cell_type": "markdown",
   "metadata": {},
   "source": [
    "האם יש קבוצה שניתן לזהות שהיא שינתה את השם שלה ?"
   ]
  },
  {
   "cell_type": "code",
   "execution_count": 47,
   "metadata": {},
   "outputs": [
    {
     "name": "stdout",
     "output_type": "stream",
     "text": [
      "3 teams going down from the league every season\n"
     ]
    }
   ],
   "source": [
    "# **בהנחה שהקבוצות שיורדות של ליגה את מספר קבוצות כלשהן **מהסוף\n",
    "seas_table = seas_table.sort_values(['Season', 'Points in season'])\n",
    "seasons = list(seas_table.groupby('Season'))\n",
    "n_teams_down = []\n",
    "\n",
    "for (season, season_df), (next_season, next_season_df) in zip(seasons[:-1], seasons[1:]):\n",
    "    season_teams = set(season_df['Team'])\n",
    "    next_season_teams = set(next_season_df['Team'])\n",
    "    down_league = season_teams - next_season_teams\n",
    "    n_teams_down.append(len(down_league))\n",
    "\n",
    "n_teams_down = pd.Series(n_teams_down)\n",
    "print(f'{n_teams_down.mode().iloc[0]} teams going down from the league every season')"
   ]
  },
  {
   "cell_type": "code",
   "execution_count": 43,
   "metadata": {},
   "outputs": [
    {
     "name": "stdout",
     "output_type": "stream",
     "text": [
      "Perhaps Middlesbrough changed its name to Barnsley after the 1996-97 season. They did not play concurrently in any season, and just after Middlesbrough left, Burnsley appeared.\n",
      "\n",
      "Perhaps Sheffield United changed its name to Sunderland after the 2006-07 season. They did not play concurrently in any season, and just after Middlesbrough left, Burnsley appeared.\n",
      "\n",
      "Perhaps Sheffield United changed its name to Birmingham after the 2006-07 season. They did not play concurrently in any season, and just after Middlesbrough left, Burnsley appeared.\n",
      "\n",
      "Perhaps Sheffield United changed its name to Derby after the 2006-07 season. They did not play concurrently in any season, and just after Middlesbrough left, Burnsley appeared.\n",
      "\n"
     ]
    }
   ],
   "source": [
    "seas_table = seas_table.sort_values(['Season', 'Points in season'], ascending=[True, False])\n",
    "seasons_tables = list(seas_table.groupby('Season'))\n",
    "\n",
    "for (season, season_df), (next_seas, next_seas_df) in zip(seasons_tables[:-1], seasons_tables[1:]):\n",
    "    season_teams = set(season_df['Team'].iloc[:-3])\n",
    "    next_seas_teams = set(next_seas_df['Team'])\n",
    "    gone_teams = season_teams - next_seas_teams\n",
    "    renaming_potentials = next_seas_teams - season_teams\n",
    "    \n",
    "    for gone in gone_teams:\n",
    "        for rename in renaming_potentials:\n",
    "            played_parallel = seas_table.groupby('Season')['Team'].apply(lambda x: {rename, gone} <= set(x))\n",
    "            \n",
    "            if not(played_parallel.any()):\n",
    "                print(f'Perhaps {gone} changed its name to {rename} after the {season} season. They did not play concurrently in any season, and just after Middlesbrough left, Burnsley appeared.\\n')"
   ]
  },
  {
   "cell_type": "markdown",
   "metadata": {},
   "source": [
    "## תרגיל 5 ו - 6"
   ]
  },
  {
   "cell_type": "markdown",
   "metadata": {},
   "source": [
    "5. תספור לכל קבוצה, בכמה עונות היא שיחקה\n",
    "6. מי הן 5 הקבוצות ששיחקו בהכי הרבה עונות?"
   ]
  },
  {
   "cell_type": "code",
   "execution_count": 124,
   "metadata": {},
   "outputs": [
    {
     "data": {
      "text/plain": [
       "Man United          27\n",
       "Everton             27\n",
       "Chelsea             27\n",
       "Liverpool           27\n",
       "Arsenal             27\n",
       "Tottenham           27\n",
       "Newcastle           25\n",
       "West Ham            24\n",
       "Aston Villa         24\n",
       "Man City            22\n",
       "Southampton         20\n",
       "Blackburn           17\n",
       "Sunderland          16\n",
       "Fulham              14\n",
       "Leicester           14\n",
       "Middlesbrough       14\n",
       "Bolton              13\n",
       "West Brom           12\n",
       "Leeds               11\n",
       "Crystal Palace      10\n",
       "Stoke               10\n",
       "Charlton             8\n",
       "Norwich              8\n",
       "Wigan                8\n",
       "Coventry             8\n",
       "Portsmouth           7\n",
       "Wimbledon            7\n",
       "Watford              7\n",
       "Sheffield Weds       7\n",
       "Birmingham           7\n",
       "Swansea              7\n",
       "Derby                7\n",
       "Wolves               6\n",
       "QPR                  6\n",
       "Burnley              6\n",
       "Hull                 5\n",
       "Bournemouth          5\n",
       "Ipswich              4\n",
       "Nott'm Forest        4\n",
       "Sheffield United     3\n",
       "Reading              3\n",
       "Brighton             3\n",
       "Huddersfield         2\n",
       "Bradford             2\n",
       "Cardiff              2\n",
       "Barnsley             1\n",
       "Oldham               1\n",
       "Blackpool            1\n",
       "Swindon              1\n",
       "Name: HomeTeam, dtype: int64"
      ]
     },
     "execution_count": 124,
     "metadata": {},
     "output_type": "execute_result"
    }
   ],
   "source": [
    "df.drop_duplicates(['HomeTeam', 'Season'])['HomeTeam'].value_counts()"
   ]
  },
  {
   "cell_type": "markdown",
   "metadata": {},
   "source": [
    "# או"
   ]
  },
  {
   "cell_type": "code",
   "execution_count": 125,
   "metadata": {},
   "outputs": [
    {
     "data": {
      "text/plain": [
       "HomeTeam\n",
       "Liverpool           27\n",
       "Tottenham           27\n",
       "Chelsea             27\n",
       "Everton             27\n",
       "Man United          27\n",
       "Arsenal             27\n",
       "Newcastle           25\n",
       "West Ham            24\n",
       "Aston Villa         24\n",
       "Man City            22\n",
       "Southampton         20\n",
       "Blackburn           17\n",
       "Sunderland          16\n",
       "Fulham              14\n",
       "Leicester           14\n",
       "Middlesbrough       14\n",
       "Bolton              13\n",
       "West Brom           12\n",
       "Leeds               11\n",
       "Crystal Palace      10\n",
       "Stoke               10\n",
       "Charlton             8\n",
       "Wigan                8\n",
       "Coventry             8\n",
       "Norwich              8\n",
       "Watford              7\n",
       "Wimbledon            7\n",
       "Portsmouth           7\n",
       "Birmingham           7\n",
       "Sheffield Weds       7\n",
       "Swansea              7\n",
       "Derby                7\n",
       "Burnley              6\n",
       "Wolves               6\n",
       "QPR                  6\n",
       "Hull                 5\n",
       "Bournemouth          5\n",
       "Nott'm Forest        4\n",
       "Ipswich              4\n",
       "Brighton             3\n",
       "Reading              3\n",
       "Sheffield United     3\n",
       "Huddersfield         2\n",
       "Cardiff              2\n",
       "Bradford             2\n",
       "Swindon              1\n",
       "Oldham               1\n",
       "Blackpool            1\n",
       "Barnsley             1\n",
       "Name: Season, dtype: int64"
      ]
     },
     "execution_count": 125,
     "metadata": {},
     "output_type": "execute_result"
    }
   ],
   "source": [
    "(df.groupby('HomeTeam')['Season'].nunique()).sort_values(ascending=False)"
   ]
  },
  {
   "cell_type": "markdown",
   "metadata": {},
   "source": [
    "## תרגיל 7"
   ]
  },
  {
   "cell_type": "markdown",
   "metadata": {},
   "source": [
    "האם יש עונות שחונות בשערים ? תשרטט את כמות השערים הכוללת בעונה לאורך השנים."
   ]
  },
  {
   "cell_type": "code",
   "execution_count": 126,
   "metadata": {},
   "outputs": [
    {
     "data": {
      "text/plain": [
       "<AxesSubplot:xlabel='Season'>"
      ]
     },
     "execution_count": 126,
     "metadata": {},
     "output_type": "execute_result"
    },
    {
     "data": {
      "image/png": "[encoded data removed]",
      "text/plain": [
       "<Figure size 432x288 with 1 Axes>"
      ]
     },
     "metadata": {
      "needs_background": "light"
     },
     "output_type": "display_data"
    }
   ],
   "source": [
    "all_seasons = df.groupby('Season').apply(lambda df: (df['FTHG'] + df['FTAG']).mean())\n",
    "all_seasons.plot()"
   ]
  },
  {
   "cell_type": "markdown",
   "metadata": {},
   "source": [
    "##  תרגיל 8"
   ]
  },
  {
   "cell_type": "markdown",
   "metadata": {},
   "source": [
    "האם יש לקבוצות נטייה להבקיע יותר/פחות שערים במחזורים מסוימים ?\n",
    "שרטט על גרף אחד את התפלגות כמות השערים במחזורים.\n",
    "כלומר, תשרטט גרף התפלגות אחד לכל  שלושה מחזורים עוקבים."
   ]
  },
  {
   "cell_type": "code",
   "execution_count": 4,
   "metadata": {},
   "outputs": [
    {
     "data": {
      "text/plain": [
       "<matplotlib.legend.Legend at 0x1dacae53278>"
      ]
     },
     "execution_count": 4,
     "metadata": {},
     "output_type": "execute_result"
    },
    {
     "data": {
      "image/png": "[encoded data removed]",
      "text/plain": [
       "<Figure size 432x288 with 1 Axes>"
      ]
     },
     "metadata": {
      "needs_background": "light"
     },
     "output_type": "display_data"
    }
   ],
   "source": [
    "def get_cycle_column_for_season(season):\n",
    "    n_teams = season['HomeTeam'].nunique()\n",
    "    cycle_column = sorted(list(range(1, n_teams * 2-1)) * (n_teams // 2))\n",
    "    return pd.Series(cycle_column)\n",
    "\n",
    "df['Cycle'] = (df.groupby('Season').apply(get_cycle_column_for_season)).reset_index(drop=True)\n",
    "###\n",
    "df['TotalGoals'] = df['FTHG'] + df['FTAG']\n",
    "df[\"Group of cycles\"] = (df[\"Cycle\"] - 1) // 3 + 1\n",
    "\n",
    "plt.axes([0, 0, 1.5, 1])\n",
    "groups = df.groupby(\"Group of cycles\")['TotalGoals'].hist(bins=20, alpha=0.5)\n",
    "plt.legend(df['Group of cycles'].drop_duplicates())"
   ]
  },
  {
   "cell_type": "markdown",
   "metadata": {},
   "source": [
    "## תרגיל 9"
   ]
  },
  {
   "cell_type": "markdown",
   "metadata": {},
   "source": [
    "האם בכל עונה יש את אותה כמות המחזורים ?"
   ]
  },
  {
   "cell_type": "code",
   "execution_count": 129,
   "metadata": {},
   "outputs": [
    {
     "data": {
      "text/plain": [
       "False"
      ]
     },
     "execution_count": 129,
     "metadata": {},
     "output_type": "execute_result"
    }
   ],
   "source": [
    "df.groupby('Season')['Cycle'].nunique().nunique() == 1"
   ]
  },
  {
   "cell_type": "markdown",
   "metadata": {},
   "source": [
    "## תרגיל 10"
   ]
  },
  {
   "cell_type": "markdown",
   "metadata": {},
   "source": [
    "כמה קבוצות שיחקו בליגה לאורך השנים ?"
   ]
  },
  {
   "cell_type": "code",
   "execution_count": 130,
   "metadata": {},
   "outputs": [
    {
     "data": {
      "text/plain": [
       "49"
      ]
     },
     "execution_count": 130,
     "metadata": {},
     "output_type": "execute_result"
    }
   ],
   "source": [
    "df[\"AwayTeam\"].nunique()"
   ]
  },
  {
   "cell_type": "markdown",
   "metadata": {},
   "source": [
    "## תרגיל 11"
   ]
  },
  {
   "cell_type": "markdown",
   "metadata": {},
   "source": [
    "כמה מחזורים יש בכל עונה ?"
   ]
  },
  {
   "cell_type": "code",
   "execution_count": 167,
   "metadata": {},
   "outputs": [
    {
     "data": {
      "text/plain": [
       "Season\n",
       "1993-94    42\n",
       "1994-95    42\n",
       "1995-96    38\n",
       "1996-97    38\n",
       "1997-98    38\n",
       "1998-99    38\n",
       "1999-00    38\n",
       "2000-01    38\n",
       "2001-02    38\n",
       "2002-03    38\n",
       "2003-04    38\n",
       "2004-05    38\n",
       "2005-06    38\n",
       "2006-07    38\n",
       "2007-08    38\n",
       "2008-09    38\n",
       "2009-10    38\n",
       "2010-11    38\n",
       "2011-12    38\n",
       "2012-13    38\n",
       "2013-14    38\n",
       "2014-15    38\n",
       "2015-16    38\n",
       "2016-17    38\n",
       "2017-18    38\n",
       "2018-19    38\n",
       "2019-20    38\n",
       "Name: Cycle, dtype: int64"
      ]
     },
     "execution_count": 167,
     "metadata": {},
     "output_type": "execute_result"
    }
   ],
   "source": [
    "df.groupby(\"Season\")[\"Cycle\"].nunique()"
   ]
  },
  {
   "cell_type": "markdown",
   "metadata": {},
   "source": [
    "## תרגיל 12"
   ]
  },
  {
   "cell_type": "markdown",
   "metadata": {},
   "source": [
    "האם יש קבוצות שהשתתפו בעונה מסוימת, אבל לא שיחקו בה בכל המחזורים ? "
   ]
  },
  {
   "cell_type": "code",
   "execution_count": 132,
   "metadata": {},
   "outputs": [
    {
     "data": {
      "text/plain": [
       "False"
      ]
     },
     "execution_count": 132,
     "metadata": {},
     "output_type": "execute_result"
    }
   ],
   "source": [
    "games_should_be_in_each_cycle = df.groupby('Season').apply(lambda df: df['HomeTeam'].nunique() // 2)\n",
    "games_in_each_cycle = df.groupby('Season').apply(lambda df: df['Cycle'].value_counts().mean())\n",
    "(games_should_be_in_each_cycle != games_in_each_cycle).any()"
   ]
  },
  {
   "cell_type": "markdown",
   "metadata": {},
   "source": [
    "## תרגיל 13"
   ]
  },
  {
   "cell_type": "markdown",
   "metadata": {},
   "source": [
    "תחשב לכל משחק, כמה נקודות כל קבוצה צברה במשחק."
   ]
  },
  {
   "cell_type": "code",
   "execution_count": 7,
   "metadata": {},
   "outputs": [
    {
     "data": {
      "text/html": [
       "<div>\n",
       "<style scoped>\n",
       "    .dataframe tbody tr th:only-of-type {\n",
       "        vertical-align: middle;\n",
       "    }\n",
       "\n",
       "    .dataframe tbody tr th {\n",
       "        vertical-align: top;\n",
       "    }\n",
       "\n",
       "    .dataframe thead th {\n",
       "        text-align: right;\n",
       "    }\n",
       "</style>\n",
       "<table border=\"1\" class=\"dataframe\">\n",
       "  <thead>\n",
       "    <tr style=\"text-align: right;\">\n",
       "      <th></th>\n",
       "      <th>Season</th>\n",
       "      <th>Date</th>\n",
       "      <th>HomeTeam</th>\n",
       "      <th>AwayTeam</th>\n",
       "      <th>FTHG</th>\n",
       "      <th>FTAG</th>\n",
       "      <th>FTR</th>\n",
       "      <th>HTHG</th>\n",
       "      <th>HTAG</th>\n",
       "      <th>HTR</th>\n",
       "      <th>...</th>\n",
       "      <th>AF</th>\n",
       "      <th>HY</th>\n",
       "      <th>AY</th>\n",
       "      <th>HR</th>\n",
       "      <th>AR</th>\n",
       "      <th>Cycle</th>\n",
       "      <th>TotalGoals</th>\n",
       "      <th>Group of cycles</th>\n",
       "      <th>Team win</th>\n",
       "      <th>Points for the win team</th>\n",
       "    </tr>\n",
       "  </thead>\n",
       "  <tbody>\n",
       "    <tr>\n",
       "      <th>0</th>\n",
       "      <td>1993-94</td>\n",
       "      <td>1993-08-14 00:00:00</td>\n",
       "      <td>Arsenal</td>\n",
       "      <td>Coventry</td>\n",
       "      <td>0</td>\n",
       "      <td>3</td>\n",
       "      <td>A</td>\n",
       "      <td>NaN</td>\n",
       "      <td>NaN</td>\n",
       "      <td>NaN</td>\n",
       "      <td>...</td>\n",
       "      <td>NaN</td>\n",
       "      <td>NaN</td>\n",
       "      <td>NaN</td>\n",
       "      <td>NaN</td>\n",
       "      <td>NaN</td>\n",
       "      <td>1</td>\n",
       "      <td>3</td>\n",
       "      <td>1</td>\n",
       "      <td>Coventry</td>\n",
       "      <td>3</td>\n",
       "    </tr>\n",
       "    <tr>\n",
       "      <th>1</th>\n",
       "      <td>1993-94</td>\n",
       "      <td>1993-08-14 00:00:00</td>\n",
       "      <td>West Ham</td>\n",
       "      <td>Wimbledon</td>\n",
       "      <td>0</td>\n",
       "      <td>2</td>\n",
       "      <td>A</td>\n",
       "      <td>NaN</td>\n",
       "      <td>NaN</td>\n",
       "      <td>NaN</td>\n",
       "      <td>...</td>\n",
       "      <td>NaN</td>\n",
       "      <td>NaN</td>\n",
       "      <td>NaN</td>\n",
       "      <td>NaN</td>\n",
       "      <td>NaN</td>\n",
       "      <td>1</td>\n",
       "      <td>2</td>\n",
       "      <td>1</td>\n",
       "      <td>Wimbledon</td>\n",
       "      <td>3</td>\n",
       "    </tr>\n",
       "    <tr>\n",
       "      <th>2</th>\n",
       "      <td>1993-94</td>\n",
       "      <td>1993-08-14 00:00:00</td>\n",
       "      <td>Sheffield United</td>\n",
       "      <td>Swindon</td>\n",
       "      <td>3</td>\n",
       "      <td>1</td>\n",
       "      <td>H</td>\n",
       "      <td>NaN</td>\n",
       "      <td>NaN</td>\n",
       "      <td>NaN</td>\n",
       "      <td>...</td>\n",
       "      <td>NaN</td>\n",
       "      <td>NaN</td>\n",
       "      <td>NaN</td>\n",
       "      <td>NaN</td>\n",
       "      <td>NaN</td>\n",
       "      <td>1</td>\n",
       "      <td>4</td>\n",
       "      <td>1</td>\n",
       "      <td>Sheffield United</td>\n",
       "      <td>3</td>\n",
       "    </tr>\n",
       "    <tr>\n",
       "      <th>3</th>\n",
       "      <td>1993-94</td>\n",
       "      <td>1993-08-14 00:00:00</td>\n",
       "      <td>Oldham</td>\n",
       "      <td>Ipswich</td>\n",
       "      <td>0</td>\n",
       "      <td>3</td>\n",
       "      <td>A</td>\n",
       "      <td>NaN</td>\n",
       "      <td>NaN</td>\n",
       "      <td>NaN</td>\n",
       "      <td>...</td>\n",
       "      <td>NaN</td>\n",
       "      <td>NaN</td>\n",
       "      <td>NaN</td>\n",
       "      <td>NaN</td>\n",
       "      <td>NaN</td>\n",
       "      <td>1</td>\n",
       "      <td>3</td>\n",
       "      <td>1</td>\n",
       "      <td>Ipswich</td>\n",
       "      <td>3</td>\n",
       "    </tr>\n",
       "    <tr>\n",
       "      <th>4</th>\n",
       "      <td>1993-94</td>\n",
       "      <td>1993-08-14 00:00:00</td>\n",
       "      <td>Newcastle</td>\n",
       "      <td>Tottenham</td>\n",
       "      <td>0</td>\n",
       "      <td>1</td>\n",
       "      <td>A</td>\n",
       "      <td>NaN</td>\n",
       "      <td>NaN</td>\n",
       "      <td>NaN</td>\n",
       "      <td>...</td>\n",
       "      <td>NaN</td>\n",
       "      <td>NaN</td>\n",
       "      <td>NaN</td>\n",
       "      <td>NaN</td>\n",
       "      <td>NaN</td>\n",
       "      <td>1</td>\n",
       "      <td>1</td>\n",
       "      <td>1</td>\n",
       "      <td>Tottenham</td>\n",
       "      <td>3</td>\n",
       "    </tr>\n",
       "    <tr>\n",
       "      <th>...</th>\n",
       "      <td>...</td>\n",
       "      <td>...</td>\n",
       "      <td>...</td>\n",
       "      <td>...</td>\n",
       "      <td>...</td>\n",
       "      <td>...</td>\n",
       "      <td>...</td>\n",
       "      <td>...</td>\n",
       "      <td>...</td>\n",
       "      <td>...</td>\n",
       "      <td>...</td>\n",
       "      <td>...</td>\n",
       "      <td>...</td>\n",
       "      <td>...</td>\n",
       "      <td>...</td>\n",
       "      <td>...</td>\n",
       "      <td>...</td>\n",
       "      <td>...</td>\n",
       "      <td>...</td>\n",
       "      <td>...</td>\n",
       "      <td>...</td>\n",
       "    </tr>\n",
       "    <tr>\n",
       "      <th>10419</th>\n",
       "      <td>2019-20</td>\n",
       "      <td>2020-07-26 16:00:00</td>\n",
       "      <td>Chelsea</td>\n",
       "      <td>Wolves</td>\n",
       "      <td>2</td>\n",
       "      <td>0</td>\n",
       "      <td>H</td>\n",
       "      <td>2.0</td>\n",
       "      <td>0.0</td>\n",
       "      <td>H</td>\n",
       "      <td>...</td>\n",
       "      <td>16.0</td>\n",
       "      <td>2.0</td>\n",
       "      <td>3.0</td>\n",
       "      <td>0.0</td>\n",
       "      <td>0.0</td>\n",
       "      <td>38</td>\n",
       "      <td>2</td>\n",
       "      <td>13</td>\n",
       "      <td>Chelsea</td>\n",
       "      <td>3</td>\n",
       "    </tr>\n",
       "    <tr>\n",
       "      <th>10420</th>\n",
       "      <td>2019-20</td>\n",
       "      <td>2020-07-26 16:00:00</td>\n",
       "      <td>Burnley</td>\n",
       "      <td>Brighton</td>\n",
       "      <td>1</td>\n",
       "      <td>2</td>\n",
       "      <td>A</td>\n",
       "      <td>1.0</td>\n",
       "      <td>1.0</td>\n",
       "      <td>D</td>\n",
       "      <td>...</td>\n",
       "      <td>11.0</td>\n",
       "      <td>3.0</td>\n",
       "      <td>0.0</td>\n",
       "      <td>0.0</td>\n",
       "      <td>0.0</td>\n",
       "      <td>38</td>\n",
       "      <td>3</td>\n",
       "      <td>13</td>\n",
       "      <td>Brighton</td>\n",
       "      <td>3</td>\n",
       "    </tr>\n",
       "    <tr>\n",
       "      <th>10421</th>\n",
       "      <td>2019-20</td>\n",
       "      <td>2020-07-26 16:00:00</td>\n",
       "      <td>Arsenal</td>\n",
       "      <td>Watford</td>\n",
       "      <td>3</td>\n",
       "      <td>2</td>\n",
       "      <td>H</td>\n",
       "      <td>3.0</td>\n",
       "      <td>1.0</td>\n",
       "      <td>H</td>\n",
       "      <td>...</td>\n",
       "      <td>12.0</td>\n",
       "      <td>3.0</td>\n",
       "      <td>3.0</td>\n",
       "      <td>0.0</td>\n",
       "      <td>0.0</td>\n",
       "      <td>38</td>\n",
       "      <td>5</td>\n",
       "      <td>13</td>\n",
       "      <td>Arsenal</td>\n",
       "      <td>3</td>\n",
       "    </tr>\n",
       "    <tr>\n",
       "      <th>10422</th>\n",
       "      <td>2019-20</td>\n",
       "      <td>2020-07-26 16:00:00</td>\n",
       "      <td>Crystal Palace</td>\n",
       "      <td>Tottenham</td>\n",
       "      <td>1</td>\n",
       "      <td>1</td>\n",
       "      <td>D</td>\n",
       "      <td>0.0</td>\n",
       "      <td>1.0</td>\n",
       "      <td>A</td>\n",
       "      <td>...</td>\n",
       "      <td>13.0</td>\n",
       "      <td>3.0</td>\n",
       "      <td>2.0</td>\n",
       "      <td>0.0</td>\n",
       "      <td>0.0</td>\n",
       "      <td>38</td>\n",
       "      <td>2</td>\n",
       "      <td>13</td>\n",
       "      <td>[Tottenham, Crystal Palace]</td>\n",
       "      <td>1</td>\n",
       "    </tr>\n",
       "    <tr>\n",
       "      <th>10423</th>\n",
       "      <td>2019-20</td>\n",
       "      <td>2020-07-26 16:00:00</td>\n",
       "      <td>West Ham</td>\n",
       "      <td>Aston Villa</td>\n",
       "      <td>1</td>\n",
       "      <td>1</td>\n",
       "      <td>D</td>\n",
       "      <td>0.0</td>\n",
       "      <td>0.0</td>\n",
       "      <td>D</td>\n",
       "      <td>...</td>\n",
       "      <td>13.0</td>\n",
       "      <td>2.0</td>\n",
       "      <td>1.0</td>\n",
       "      <td>0.0</td>\n",
       "      <td>0.0</td>\n",
       "      <td>38</td>\n",
       "      <td>2</td>\n",
       "      <td>13</td>\n",
       "      <td>[Aston Villa, West Ham]</td>\n",
       "      <td>1</td>\n",
       "    </tr>\n",
       "  </tbody>\n",
       "</table>\n",
       "<p>10424 rows × 28 columns</p>\n",
       "</div>"
      ],
      "text/plain": [
       "        Season                 Date          HomeTeam     AwayTeam  FTHG  \\\n",
       "0      1993-94  1993-08-14 00:00:00           Arsenal     Coventry     0   \n",
       "1      1993-94  1993-08-14 00:00:00          West Ham    Wimbledon     0   \n",
       "2      1993-94  1993-08-14 00:00:00  Sheffield United      Swindon     3   \n",
       "3      1993-94  1993-08-14 00:00:00            Oldham      Ipswich     0   \n",
       "4      1993-94  1993-08-14 00:00:00         Newcastle    Tottenham     0   \n",
       "...        ...                  ...               ...          ...   ...   \n",
       "10419  2019-20  2020-07-26 16:00:00           Chelsea       Wolves     2   \n",
       "10420  2019-20  2020-07-26 16:00:00           Burnley     Brighton     1   \n",
       "10421  2019-20  2020-07-26 16:00:00           Arsenal      Watford     3   \n",
       "10422  2019-20  2020-07-26 16:00:00    Crystal Palace    Tottenham     1   \n",
       "10423  2019-20  2020-07-26 16:00:00          West Ham  Aston Villa     1   \n",
       "\n",
       "       FTAG FTR  HTHG  HTAG  HTR  ...    AF   HY   AY   HR   AR  Cycle  \\\n",
       "0         3   A   NaN   NaN  NaN  ...   NaN  NaN  NaN  NaN  NaN      1   \n",
       "1         2   A   NaN   NaN  NaN  ...   NaN  NaN  NaN  NaN  NaN      1   \n",
       "2         1   H   NaN   NaN  NaN  ...   NaN  NaN  NaN  NaN  NaN      1   \n",
       "3         3   A   NaN   NaN  NaN  ...   NaN  NaN  NaN  NaN  NaN      1   \n",
       "4         1   A   NaN   NaN  NaN  ...   NaN  NaN  NaN  NaN  NaN      1   \n",
       "...     ...  ..   ...   ...  ...  ...   ...  ...  ...  ...  ...    ...   \n",
       "10419     0   H   2.0   0.0    H  ...  16.0  2.0  3.0  0.0  0.0     38   \n",
       "10420     2   A   1.0   1.0    D  ...  11.0  3.0  0.0  0.0  0.0     38   \n",
       "10421     2   H   3.0   1.0    H  ...  12.0  3.0  3.0  0.0  0.0     38   \n",
       "10422     1   D   0.0   1.0    A  ...  13.0  3.0  2.0  0.0  0.0     38   \n",
       "10423     1   D   0.0   0.0    D  ...  13.0  2.0  1.0  0.0  0.0     38   \n",
       "\n",
       "       TotalGoals  Group of cycles                     Team win  \\\n",
       "0               3                1                     Coventry   \n",
       "1               2                1                    Wimbledon   \n",
       "2               4                1             Sheffield United   \n",
       "3               3                1                      Ipswich   \n",
       "4               1                1                    Tottenham   \n",
       "...           ...              ...                          ...   \n",
       "10419           2               13                      Chelsea   \n",
       "10420           3               13                     Brighton   \n",
       "10421           5               13                      Arsenal   \n",
       "10422           2               13  [Tottenham, Crystal Palace]   \n",
       "10423           2               13      [Aston Villa, West Ham]   \n",
       "\n",
       "       Points for the win team  \n",
       "0                            3  \n",
       "1                            3  \n",
       "2                            3  \n",
       "3                            3  \n",
       "4                            3  \n",
       "...                        ...  \n",
       "10419                        3  \n",
       "10420                        3  \n",
       "10421                        3  \n",
       "10422                        1  \n",
       "10423                        1  \n",
       "\n",
       "[10424 rows x 28 columns]"
      ]
     },
     "execution_count": 7,
     "metadata": {},
     "output_type": "execute_result"
    }
   ],
   "source": [
    "df['Team win'] = [Hteam if result == 'H' else Ateam if result == 'A' else [Ateam, Hteam] for Hteam, Ateam, result in zip(df['HomeTeam'], df['AwayTeam'], df['FTR'])]\n",
    "df['Points for the win team'] = [3 if result != 'D' else 1 for result in df['FTR']]\n",
    "\n",
    "df"
   ]
  },
  {
   "cell_type": "markdown",
   "metadata": {},
   "source": [
    "## 14 תרגיל"
   ]
  },
  {
   "cell_type": "markdown",
   "metadata": {},
   "source": [
    "תחשב לכל עונה את הניקוד הכולל של כל אחת מהקבוצות. כלומר, עליך לחשב טבלה עם שלוש עמודות - שם הקבוצה שם העונה כמות הניקוד הכוללת של הקבוצה בעונה."
   ]
  },
  {
   "cell_type": "code",
   "execution_count": 8,
   "metadata": {},
   "outputs": [
    {
     "data": {
      "text/html": [
       "<div>\n",
       "<style scoped>\n",
       "    .dataframe tbody tr th:only-of-type {\n",
       "        vertical-align: middle;\n",
       "    }\n",
       "\n",
       "    .dataframe tbody tr th {\n",
       "        vertical-align: top;\n",
       "    }\n",
       "\n",
       "    .dataframe thead th {\n",
       "        text-align: right;\n",
       "    }\n",
       "</style>\n",
       "<table border=\"1\" class=\"dataframe\">\n",
       "  <thead>\n",
       "    <tr style=\"text-align: right;\">\n",
       "      <th></th>\n",
       "      <th>Season</th>\n",
       "      <th>Team</th>\n",
       "      <th>Points in season</th>\n",
       "    </tr>\n",
       "  </thead>\n",
       "  <tbody>\n",
       "    <tr>\n",
       "      <th>0</th>\n",
       "      <td>1993-94</td>\n",
       "      <td>Man United</td>\n",
       "      <td>92</td>\n",
       "    </tr>\n",
       "    <tr>\n",
       "      <th>1</th>\n",
       "      <td>1993-94</td>\n",
       "      <td>Blackburn</td>\n",
       "      <td>84</td>\n",
       "    </tr>\n",
       "    <tr>\n",
       "      <th>2</th>\n",
       "      <td>1993-94</td>\n",
       "      <td>Newcastle</td>\n",
       "      <td>77</td>\n",
       "    </tr>\n",
       "    <tr>\n",
       "      <th>3</th>\n",
       "      <td>1993-94</td>\n",
       "      <td>Arsenal</td>\n",
       "      <td>71</td>\n",
       "    </tr>\n",
       "    <tr>\n",
       "      <th>4</th>\n",
       "      <td>1993-94</td>\n",
       "      <td>Leeds</td>\n",
       "      <td>70</td>\n",
       "    </tr>\n",
       "    <tr>\n",
       "      <th>...</th>\n",
       "      <td>...</td>\n",
       "      <td>...</td>\n",
       "      <td>...</td>\n",
       "    </tr>\n",
       "    <tr>\n",
       "      <th>539</th>\n",
       "      <td>2019-20</td>\n",
       "      <td>West Ham</td>\n",
       "      <td>39</td>\n",
       "    </tr>\n",
       "    <tr>\n",
       "      <th>540</th>\n",
       "      <td>2019-20</td>\n",
       "      <td>Aston Villa</td>\n",
       "      <td>35</td>\n",
       "    </tr>\n",
       "    <tr>\n",
       "      <th>541</th>\n",
       "      <td>2019-20</td>\n",
       "      <td>Bournemouth</td>\n",
       "      <td>34</td>\n",
       "    </tr>\n",
       "    <tr>\n",
       "      <th>542</th>\n",
       "      <td>2019-20</td>\n",
       "      <td>Watford</td>\n",
       "      <td>34</td>\n",
       "    </tr>\n",
       "    <tr>\n",
       "      <th>543</th>\n",
       "      <td>2019-20</td>\n",
       "      <td>Norwich</td>\n",
       "      <td>21</td>\n",
       "    </tr>\n",
       "  </tbody>\n",
       "</table>\n",
       "<p>544 rows × 3 columns</p>\n",
       "</div>"
      ],
      "text/plain": [
       "      Season         Team  Points in season\n",
       "0    1993-94   Man United                92\n",
       "1    1993-94    Blackburn                84\n",
       "2    1993-94    Newcastle                77\n",
       "3    1993-94      Arsenal                71\n",
       "4    1993-94        Leeds                70\n",
       "..       ...          ...               ...\n",
       "539  2019-20     West Ham                39\n",
       "540  2019-20  Aston Villa                35\n",
       "541  2019-20  Bournemouth                34\n",
       "542  2019-20      Watford                34\n",
       "543  2019-20      Norwich                21\n",
       "\n",
       "[544 rows x 3 columns]"
      ]
     },
     "execution_count": 8,
     "metadata": {},
     "output_type": "execute_result"
    }
   ],
   "source": [
    "game_with_winner = df[df['Points for the win team'] == 3]\n",
    "\n",
    "seas_table = game_with_winner.groupby(['Season', 'Team win'])['Points for the win team'].sum()\n",
    "\n",
    "for x, dgame in df[df['FTR'] == 'D'].iterrows():\n",
    "    home, away, season = dgame.loc['HomeTeam'], dgame.loc['AwayTeam'], dgame.loc['Season']\n",
    "    seas_table.loc[(season, home)] += 1\n",
    "    seas_table.loc[(season, away)] += 1\n",
    "\n",
    "seas_table = seas_table.reset_index().rename(columns={'Points for the win team': 'Points in season', 'Team win': 'Team'}).sort_values(['Season', 'Points in season'], ascending=[True, False]).reset_index(drop=True)\n",
    "seas_table"
   ]
  },
  {
   "cell_type": "markdown",
   "metadata": {},
   "source": [
    "## תרגיל 15"
   ]
  },
  {
   "cell_type": "markdown",
   "metadata": {},
   "source": [
    "בהינתן שקבוצה סיימה בחמישייה הראשונה בעונה x מה הסיכוי שלה לסיים בחמישייה הראשונה בעונה x + 1 ?"
   ]
  },
  {
   "cell_type": "code",
   "execution_count": 135,
   "metadata": {},
   "outputs": [
    {
     "name": "stdout",
     "output_type": "stream",
     "text": [
      "75.758%\n"
     ]
    }
   ],
   "source": [
    "all_seasons = list(seas_table.sort_values(['Season', 'Points in season'], ascending=[True, False]).groupby('Season'))\n",
    "\n",
    "maximum = 0\n",
    "count = 0\n",
    "for (next_s, next_seas), (sea, season_table) in zip(all_seasons[1:], all_seasons[:-1]):\n",
    "    leading_seas_teams = set(season_table[season_table['Points in season'] >= season_table.iloc[4]['Points in season']]['Team'])\n",
    "    leading_next_seas_teams = set(next_seas[next_seas['Points in season'] >= next_seas.iloc[4]['Points in season']]['Team'])\n",
    "    \n",
    "    maximum += len(leading_seas_teams)\n",
    "    count += len(leading_seas_teams & leading_next_seas_teams)\n",
    "\n",
    "print(f\"{count / maximum * 100:.3f}%\")"
   ]
  },
  {
   "cell_type": "markdown",
   "metadata": {},
   "source": [
    "## תרגיל 16"
   ]
  },
  {
   "cell_type": "markdown",
   "metadata": {},
   "source": [
    "נבדוק האם יש קבוצות שנוטות לייצר תוצאות תיקו באופן מיוחד\n",
    "א. תחשב את הסיכוי של כל קבוצה לייצר תוצאת תיקו\n",
    "ב. תשרטט את התפלגות הסיכויים \n",
    "אם יש קבוצה שחורגת ימינה מההתפלגות הנורמלית, אז ייתכן שהיא באמת נוטה לייצר תוצאות תיקו."
   ]
  },
  {
   "cell_type": "code",
   "execution_count": 238,
   "metadata": {},
   "outputs": [
    {
     "name": "stdout",
     "output_type": "stream",
     "text": [
      "AwayTeam\n",
      "Arsenal             25.435203\n",
      "Aston Villa         29.565217\n",
      "Barnsley            13.157895\n",
      "Birmingham          30.827068\n",
      "Blackburn           26.452599\n",
      "Blackpool           23.684211\n",
      "Bolton              25.910931\n",
      "Bournemouth         22.631579\n",
      "Bradford            26.315789\n",
      "Brighton            31.578947\n",
      "Burnley             23.245614\n",
      "Cardiff             17.105263\n",
      "Charlton            26.973684\n",
      "Chelsea             24.081238\n",
      "Coventry            31.730769\n",
      "Crystal Palace      23.437500\n",
      "Derby               26.315789\n",
      "Everton             28.820116\n",
      "Fulham              26.503759\n",
      "Huddersfield        22.368421\n",
      "Hull                25.263158\n",
      "Ipswich             23.125000\n",
      "Leeds               25.821596\n",
      "Leicester           26.865672\n",
      "Liverpool           24.564797\n",
      "Man City            22.156398\n",
      "Man United          21.663443\n",
      "Middlesbrough       29.699248\n",
      "Newcastle           25.574113\n",
      "Norwich             28.525641\n",
      "Nott'm Forest       31.410256\n",
      "Oldham              30.952381\n",
      "Portsmouth          24.436090\n",
      "QPR                 22.457627\n",
      "Reading             20.175439\n",
      "Sheffield United    32.203390\n",
      "Sheffield Weds      27.372263\n",
      "Southampton         27.343750\n",
      "Stoke               28.684211\n",
      "Sunderland          26.151316\n",
      "Swansea             24.812030\n",
      "Swindon             35.714286\n",
      "Tottenham           24.854932\n",
      "Watford             22.932331\n",
      "West Brom           28.070175\n",
      "West Ham            25.760870\n",
      "Wigan               25.000000\n",
      "Wimbledon           29.927007\n",
      "Wolves              27.631579\n",
      "dtype: float64\n"
     ]
    },
    {
     "data": {
      "text/plain": [
       "<matplotlib.axes._axes.Axes at 0x2310a548320>"
      ]
     },
     "execution_count": 238,
     "metadata": {},
     "output_type": "execute_result"
    },
    {
     "data": {
      "image/png": "[encoded data removed]",
      "text/plain": [
       "<Figure size 432x288 with 2 Axes>"
      ]
     },
     "metadata": {
      "needs_background": "light"
     },
     "output_type": "display_data"
    }
   ],
   "source": [
    "home_draw = df.pivot_table(values='FTR', index='HomeTeam', aggfunc=lambda x: (x == 'D').sum())['FTR'].sort_index()\n",
    "away_draw = df.pivot_table(values='FTR', index='AwayTeam', aggfunc=lambda x: (x == 'D').sum())['FTR'].sort_index()\n",
    "# or like that:\n",
    "# home_draw = df.groupby('HomeTeam')['FTR'].apply(lambda x: (x == 'D').sum()).sort_index()\n",
    "# away_draw = df.groupby('AwayTeam')['FTR'].apply(lambda x: (x == 'D').sum()).sort_index()\n",
    "\n",
    "home_games = df.groupby('HomeTeam').size()\n",
    "away_games = df.groupby('HomeTeam').size()\n",
    "\n",
    "chance_each_team = (away_draw + home_draw) / (home_games + away_games) * 100\n",
    "print(chance_each_team)\n",
    "\n",
    "plt.axes([0, 0, 0.6, 0.5])\n",
    "chance_each_team.hist()\n",
    "\n",
    "plt.axes([0.67, 0, 1.3, 0.5])\n",
    "chance_each_team.plot(kind='bar', rot=80)"
   ]
  },
  {
   "cell_type": "markdown",
   "metadata": {},
   "source": [
    "## תרגיל 17"
   ]
  },
  {
   "cell_type": "markdown",
   "metadata": {},
   "source": [
    "האם להבקיע כמות מקסימלית של שערים מבטיח מקום ראשון בליגה ?\n",
    "תחשב מי הקבוצה שהבקיעה הכי הרבה שערים בכל עונה.\n",
    "תבדוק  כמה מתוכן סיימו ראשונות"
   ]
  },
  {
   "cell_type": "code",
   "execution_count": 137,
   "metadata": {},
   "outputs": [
    {
     "name": "stdout",
     "output_type": "stream",
     "text": [
      "62.96296%\n"
     ]
    }
   ],
   "source": [
    "win_team_in_each_season = seas_table.sort_values(['Season', 'Points in season'], ascending=[True, False]).groupby('Season').nth(0)['Team']\n",
    "home_teams_total_golls = df.groupby(['Season', 'HomeTeam'])['FTHG'].sum().reset_index().rename(columns={'HomeTeam': 'Team', 'FTHG': 'TotalGoals'})\n",
    "away_teams_total_golls = df.groupby(['Season', 'AwayTeam'])['FTAG'].sum().reset_index().rename(columns={'AwayTeam': 'Team', 'FTAG': 'TotalGoals'})\n",
    "\n",
    "teams_total_golls = pd.concat([home_teams_total_golls, away_teams_total_golls]).pivot_table(\n",
    "    values='TotalGoals',index=['Season', 'Team'],aggfunc='sum').reset_index().sort_values(['Season',\n",
    "                                                                                'TotalGoals'], ascending=[True, False])\n",
    "most_goals_team_in_season = teams_total_golls.groupby('Season').nth(0)['Team']\n",
    "\n",
    "print(f'{(win_team_in_each_season == most_goals_team_in_season).mean() * 100:.5f}%')"
   ]
  },
  {
   "cell_type": "markdown",
   "metadata": {},
   "source": [
    "## תרגיל 18"
   ]
  },
  {
   "cell_type": "markdown",
   "metadata": {},
   "source": [
    "בהינתן שקבוצה מנצחת שני משחקים ברצף, מה הסיכוי שלה לנצח את המשחק שלאחר מכן ?"
   ]
  },
  {
   "cell_type": "code",
   "execution_count": 138,
   "metadata": {},
   "outputs": [
    {
     "name": "stdout",
     "output_type": "stream",
     "text": [
      "46.78606%\n"
     ]
    }
   ],
   "source": [
    "all_teams = list(dict.fromkeys(df['HomeTeam']))\n",
    "\n",
    "two_in_row = 0\n",
    "three_in_row = 0\n",
    "\n",
    "for team in all_teams:\n",
    "    winners_in_team_games = df[(df['HomeTeam'] == team) | (df['AwayTeam'] == team)]['Team win']\n",
    "    \n",
    "    for fir_ind in range(len(winners_in_team_games) - 3):\n",
    "        bool_s = (team == winners_in_team_games.iloc[fir_ind] and team == winners_in_team_games.iloc[fir_ind + 1])\n",
    "        two_in_row += bool_s\n",
    "        three_in_row += bool_s and team == winners_in_team_games.iloc[fir_ind + 2]\n",
    "\n",
    "print(f'{three_in_row / two_in_row * 100:.5f}%')"
   ]
  },
  {
   "cell_type": "markdown",
   "metadata": {},
   "source": [
    "## תרגיל 19"
   ]
  },
  {
   "cell_type": "markdown",
   "metadata": {},
   "source": [
    "###### X אם במחזור\n",
    "###### קבוצה הפסידה משחק וקבוצה אחרת ניצחה משחק,\n",
    "###### X+1 והן נפגשות במחזור\n",
    "###### מה הסיכוי של כל אחת מהן לנצח ?"
   ]
  },
  {
   "cell_type": "code",
   "execution_count": 9,
   "metadata": {},
   "outputs": [
    {
     "name": "stdout",
     "output_type": "stream",
     "text": [
      "The chance for the won team to win: 45.74689%.\n",
      "The chance for the lost team to win: 25.00000%.\n",
      "The chance to draw: 29.25311%.\n"
     ]
    }
   ],
   "source": [
    "cycles = list(df.groupby('Cycle'))\n",
    "\n",
    "two_team_meet_like_that = 0\n",
    "lost = 0\n",
    "won = 0\n",
    "draw = 0\n",
    "\n",
    "for (cycle, cycle_df), (next_cycle, next_cycle_df) in zip(cycles[:-1], cycles[1:]):\n",
    "    cycle_df = cycle_df[cycle_df['FTR'] != 'D']\n",
    "    wins_teams = list(cycle_df['Team win'])\n",
    "    \n",
    "    for ind, game in next_cycle_df.iterrows():\n",
    "        home_team = game['HomeTeam']\n",
    "        away_team = game['AwayTeam']\n",
    "        \n",
    "        home_team_won = (home_team in wins_teams)\n",
    "        away_team_won = (away_team in wins_teams)\n",
    "        \n",
    "        if not(not(not(home_team_won) and not(away_team_won)) and not(home_team_won and away_team_won)):\n",
    "            continue\n",
    "        two_team_meet_like_that += 1\n",
    "        \n",
    "        if home_team_won:\n",
    "            won_team = home_team\n",
    "            lost_team = away_team\n",
    "        else:\n",
    "            won_team = away_team\n",
    "            lost_team = home_team\n",
    "        \n",
    "        game_winner = game['Team win']\n",
    "        if won_team == game_winner:\n",
    "            won += 1\n",
    "        elif lost_team == game_winner:\n",
    "            lost += 1\n",
    "        else:\n",
    "            draw += 1\n",
    "print(f'The chance for the won team to win: {won / two_team_meet_like_that * 100:.5f}%.')\n",
    "print(f'The chance for the lost team to win: {lost / two_team_meet_like_that * 100:.5f}%.')\n",
    "print(f'The chance to draw: {draw / two_team_meet_like_that * 100:.5f}%.')"
   ]
  }
 ],
 "metadata": {
  "kernelspec": {
   "display_name": "Python 3",
   "language": "python",
   "name": "python3"
  },
  "language_info": {
   "codemirror_mode": {
    "name": "ipython",
    "version": 3
   },
   "file_extension": ".py",
   "mimetype": "text/x-python",
   "name": "python",
   "nbconvert_exporter": "python",
   "pygments_lexer": "ipython3",
   "version": "3.6.7"
  }
 },
 "nbformat": 4,
 "nbformat_minor": 4
}
